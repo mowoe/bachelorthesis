{
 "cells": [
  {
   "cell_type": "markdown",
   "id": "5f4bd429-ec57-444f-aec7-3c56271b42ce",
   "metadata": {},
   "source": [
    "This notebook is basically a copy of notebook 12, but with combining the loss with our \"Random Layout\" Predictor"
   ]
  },
  {
   "cell_type": "code",
   "execution_count": 35,
   "id": "6ce7902b-9677-432f-905a-5712495b517f",
   "metadata": {},
   "outputs": [],
   "source": [
    "!pip install -q lion-pytorch"
   ]
  },
  {
   "cell_type": "code",
   "execution_count": 36,
   "id": "179392e3-84f7-46ab-b642-c6de05dfcc74",
   "metadata": {},
   "outputs": [],
   "source": [
    "import torch\n",
    "import numpy as np\n",
    "import matplotlib.pyplot as plt\n",
    "from torchvision import datasets, transforms\n",
    "import torch.nn.functional as F\n",
    "import torchvision.transforms as T\n",
    "\n",
    "from PIL import Image\n",
    "import json\n",
    "from math import prod\n",
    "from huggingface_hub import hf_hub_download\n",
    "import tqdm\n",
    "transform_t_to_pil = T.ToPILImage()\n",
    "transform_to_t = transforms.Compose([transforms.ToTensor()])\n",
    "import utils\n",
    "from utils import get_all_bounding_boxes, segment, calculate_initial_theta, stack_alpha_aware, AestheticPredictor, get_random_initial_position\n",
    "# from lion_pytorch import Lion\n",
    "from datetime import datetime\n",
    "import random\n",
    "from huggingface_hub import hf_hub_download\n",
    "import timm\n",
    "from lion_pytorch import Lion\n",
    "import torch.nn as nn"
   ]
  },
  {
   "cell_type": "code",
   "execution_count": 37,
   "id": "899aca82-644a-4c70-a3d0-71a896996c70",
   "metadata": {},
   "outputs": [],
   "source": [
    "# Transformations\n",
    "resnet_transform = transforms.Compose([\n",
    "    transforms.Resize((224, 224)),\n",
    "    transforms.Normalize(mean=[0.485, 0.456, 0.406], std=[0.229, 0.224, 0.225]),\n",
    "])"
   ]
  },
  {
   "cell_type": "code",
   "execution_count": 38,
   "id": "3b70e8c2-62bf-4ede-9075-f818c97d5acd",
   "metadata": {},
   "outputs": [],
   "source": [
    "device = \"cpu\""
   ]
  },
  {
   "cell_type": "code",
   "execution_count": 39,
   "id": "b6c8e594-c4b2-45a4-a1ee-ff01669f241b",
   "metadata": {},
   "outputs": [
    {
     "data": {
      "text/plain": [
       "<All keys matched successfully>"
      ]
     },
     "execution_count": 39,
     "metadata": {},
     "output_type": "execute_result"
    }
   ],
   "source": [
    "# Load pre-trained ResNet model\n",
    "random_predictor = timm.create_model('resnet50', pretrained=True)\n",
    "random_predictor.fc = nn.Linear(random_predictor.fc.in_features, 2)  # Modify the classifier to output 2 classes\n",
    "random_predictor.to(device)\n",
    "\n",
    "local_filename = hf_hub_download(repo_id=\"mowoe/random-layout-classifier\", filename=\"random-layout-classifier.pt\")\n",
    "random_predictor.load_state_dict(torch.load(local_filename, map_location=\"cpu\"))"
   ]
  },
  {
   "cell_type": "code",
   "execution_count": 40,
   "id": "6157b4c2-cc23-4282-8953-f377dbeb42a8",
   "metadata": {},
   "outputs": [],
   "source": [
    "im = Image.open('../combined/5373.jpg')\n",
    "im = im.convert('RGBA')\n",
    "im = im.resize((1440, 2560), Image.Resampling.LANCZOS)\n",
    "\n",
    "\n",
    "with open('../combined/5373.json', \"r\") as f:\n",
    "    image_json = json.load(f)\n",
    "\n",
    "reduced_segments = [s for s in segment(im,image_json) if (prod(s[0].size) < 0.80*prod(im.size)) and (prod(s[0].size)>1)]"
   ]
  },
  {
   "cell_type": "code",
   "execution_count": 41,
   "id": "bf148e4f-9102-4f72-a9f0-4964b0ac0af4",
   "metadata": {},
   "outputs": [
    {
     "data": {
      "text/plain": [
       "(1440, 2560)"
      ]
     },
     "execution_count": 41,
     "metadata": {},
     "output_type": "execute_result"
    }
   ],
   "source": [
    "im.size"
   ]
  },
  {
   "cell_type": "code",
   "execution_count": 42,
   "id": "6dbd5669-5630-4fd8-a833-7231c9127377",
   "metadata": {},
   "outputs": [],
   "source": [
    "def get_all_bounding_boxes(item):\n",
    "    all_boxes = []\n",
    "    if \"bounds\" in item.keys() and \"resource-id\" in item.keys():\n",
    "        all_boxes.append((item[\"bounds\"],item[\"resource-id\"]))\n",
    "    if \"children\" in item.keys():\n",
    "        for child in item[\"children\"]:\n",
    "            for box in get_all_bounding_boxes(child):\n",
    "                all_boxes.append(box)\n",
    "    return all_boxes"
   ]
  },
  {
   "cell_type": "code",
   "execution_count": 47,
   "id": "c87b86bf-ff8d-4b8e-8dc8-4ff82f17c9c2",
   "metadata": {},
   "outputs": [
    {
     "data": {
      "text/plain": [
       "[(<PIL.Image.Image image mode=RGBA size=168x168>, (1272, 84)),\n",
       " (<PIL.Image.Image image mode=RGBA size=848x142>, (112, 373)),\n",
       " (<PIL.Image.Image image mode=RGBA size=888x242>, (112, 571)),\n",
       " (<PIL.Image.Image image mode=RGBA size=444x76>, (112, 917)),\n",
       " (<PIL.Image.Image image mode=RGBA size=327x168>, (1113, 2224)),\n",
       " (<PIL.Image.Image image mode=RGBA size=1440x168>, (0, 2392)),\n",
       " (<PIL.Image.Image image mode=RGBA size=1440x84>, (0, 0))]"
      ]
     },
     "execution_count": 47,
     "metadata": {},
     "output_type": "execute_result"
    }
   ],
   "source": [
    "reduced_segments"
   ]
  },
  {
   "cell_type": "code",
   "execution_count": 43,
   "id": "43b579b9-d9ce-4b5c-bc27-69571e9708a3",
   "metadata": {},
   "outputs": [],
   "source": [
    "class MultiSegmentUIOptimizerWithBackgroundParam(torch.nn.Module):\n",
    "    def __init__(self,segments_and_positions: list, original_image_size: tuple):\n",
    "        super().__init__()\n",
    "        self.original_image_size = original_image_size\n",
    "        self.segments_and_positions = segments_and_positions\n",
    "        self.canvas_size = (1,3,original_image_size[1],original_image_size[0])\n",
    "        print(f\"Canvas size is {self.canvas_size}\")\n",
    "\n",
    "        initial_vector = []\n",
    "        for segment,position in segments_and_positions:\n",
    "            # initial_theta = calculate_initial_theta(segment,original_image_size,position)\n",
    "            initial_theta = get_random_initial_position(segment,original_image_size,position)\n",
    "            initial_vector.append([initial_theta[0][2],initial_theta[1][2]])\n",
    "\n",
    "        self.coordinates = torch.nn.Parameter(torch.tensor(initial_vector))\n",
    "        print(self.coordinates)\n",
    "        self.background_color = torch.nn.Parameter(torch.tensor(np.array([1.0,1.0,1.0]),dtype=torch.float))\n",
    "        \n",
    "\n",
    "    def forward(self):\n",
    "        segments_on_canvas = []\n",
    "\n",
    "        # Create background image from parameter\n",
    "        bg_col = torch.clamp(self.background_color, min=0, max=1)\n",
    "        #print(f\"Clamped bg to {bg_col}\")\n",
    "        red = torch.tile(bg_col[0],self.original_image_size[::-1])\n",
    "        green = torch.tile(bg_col[1],self.original_image_size[::-1])\n",
    "        blue = torch.tile(bg_col[2],self.original_image_size[::-1])\n",
    "        alpha = torch.tile(torch.tensor(1.0),self.original_image_size[::-1])\n",
    "        background = torch.stack([red,green,blue,alpha]).unsqueeze(0)\n",
    "        #print(background.detach().sum())\n",
    "        #background = torch.tile(self.background_color,self.original_image_size)\n",
    "        \n",
    "        segments_on_canvas.append(background)\n",
    "        \n",
    "        for n in range(len(self.segments_and_positions)):\n",
    "            # We need to calculate the proper ratios, to artificially warp the segment on to a bigger canvas without distorting it (see notebook 01)\n",
    "            x_ratio = self.original_image_size[0] / self.segments_and_positions[n][0].size[0]\n",
    "            y_ratio = self.original_image_size[1] / self.segments_and_positions[n][0].size[1]\n",
    "            \n",
    "            # Affine matrix\n",
    "            theta = [\n",
    "                [x_ratio, 0.0    , 0.0],\n",
    "                [0.0    , y_ratio, 0.0]\n",
    "            ]\n",
    "            theta_tensor = torch.as_tensor(theta)[None]\n",
    "\n",
    "            theta_tensor[0][0][2]+=self.coordinates[n][0]\n",
    "            theta_tensor[0][1][2]+=self.coordinates[n][1]\n",
    "            \n",
    "            # Generate flow field\n",
    "            grid = F.affine_grid(theta_tensor, self.canvas_size).type(torch.FloatTensor)\n",
    "            x = F.grid_sample(transform_to_t(self.segments_and_positions[n][0]).unsqueeze(0), grid)\n",
    "            segments_on_canvas.append(x)\n",
    "\n",
    "\n",
    "\n",
    "        return segments_on_canvas"
   ]
  },
  {
   "cell_type": "code",
   "execution_count": 44,
   "id": "456e0cb6-92ab-464f-832d-7d817eab9c60",
   "metadata": {},
   "outputs": [
    {
     "name": "stdout",
     "output_type": "stream",
     "text": [
      "Canvas size is (1, 3, 2560, 1440)\n",
      "Parameter containing:\n",
      "tensor([[-4.9740,  1.4086],\n",
      "        [ 0.2813, -4.2404],\n",
      "        [ 0.1380,  0.4991],\n",
      "        [ 2.0552, -0.8634],\n",
      "        [-2.2309, -9.6325],\n",
      "        [ 0.0000, 10.8975],\n",
      "        [ 0.0000, -0.1926]], dtype=torch.float64, requires_grad=True)\n"
     ]
    }
   ],
   "source": [
    "msUIo_wbg = MultiSegmentUIOptimizerWithBackgroundParam(reduced_segments, im.size)"
   ]
  },
  {
   "cell_type": "code",
   "execution_count": 45,
   "id": "0fc767c0-8954-41cf-879f-6cbc11a11752",
   "metadata": {},
   "outputs": [
    {
     "data": {
      "text/plain": [
       "Parameter containing:\n",
       "tensor([[-4.9740,  1.4086],\n",
       "        [ 0.2813, -4.2404],\n",
       "        [ 0.1380,  0.4991],\n",
       "        [ 2.0552, -0.8634],\n",
       "        [-2.2309, -9.6325],\n",
       "        [ 0.0000, 10.8975],\n",
       "        [ 0.0000, -0.1926]], dtype=torch.float64, requires_grad=True)"
      ]
     },
     "execution_count": 45,
     "metadata": {},
     "output_type": "execute_result"
    }
   ],
   "source": [
    "msUIo_wbg.coordinates"
   ]
  },
  {
   "cell_type": "code",
   "execution_count": 24,
   "id": "1c124360-9f73-41ad-9b22-72ec4ac0a0e4",
   "metadata": {},
   "outputs": [
    {
     "data": {
      "image/png": "[encoded data removed]",
      "text/plain": [
       "<Figure size 640x480 with 1 Axes>"
      ]
     },
     "metadata": {},
     "output_type": "display_data"
    }
   ],
   "source": [
    "canvasses = msUIo_wbg()\n",
    "\n",
    "\n",
    "generated_image = stack_alpha_aware(canvasses)\n",
    "# Remove Alpha channel\n",
    "generated_image = generated_image[:3]\n",
    "\n",
    "plt.imshow(generated_image.detach().permute(1, 2, 0))\n",
    "\n",
    "plt.axis('off')\n",
    "plt.show()"
   ]
  },
  {
   "cell_type": "code",
   "execution_count": 25,
   "id": "c61f6bcc-014b-40df-9c82-6b56430a042b",
   "metadata": {},
   "outputs": [],
   "source": [
    "appsthetics_predictor = torch.load(\"../Dataset_estetica/Regressao/model123\")"
   ]
  },
  {
   "cell_type": "code",
   "execution_count": 26,
   "id": "d1735c7b-8a18-41e4-93f2-1b5c6f581fa2",
   "metadata": {},
   "outputs": [],
   "source": [
    "#optimizer = torch.optim.AdamW(msUIo_wbg.parameters(), lr=0.01)\n",
    "#scheduler = torch.optim.lr_scheduler.CosineAnnealingWarmRestarts(optimizer, 5)\n",
    "optimizer = Lion(msUIo_wbg.parameters(), lr=0.0001, weight_decay=1e-2)"
   ]
  },
  {
   "cell_type": "code",
   "execution_count": 27,
   "id": "03308973-581d-45f1-98fa-a19f89df099f",
   "metadata": {},
   "outputs": [],
   "source": [
    "random_classifier_criterion = nn.CrossEntropyLoss()"
   ]
  },
  {
   "cell_type": "code",
   "execution_count": 28,
   "id": "1897e880-cbe8-4f76-8a19-2482a9541614",
   "metadata": {},
   "outputs": [],
   "source": [
    "# random_classifier_loss_weight = 0.33\n",
    "random_classifier_loss_weight = 1.0\n",
    "random_classifier_target = torch.Tensor([1.0]).to(torch.long)"
   ]
  },
  {
   "cell_type": "code",
   "execution_count": 29,
   "id": "0d7d098e-32ab-4a47-9684-e06a4f650f18",
   "metadata": {
    "scrolled": true
   },
   "outputs": [
    {
     "name": "stderr",
     "output_type": "stream",
     "text": [
      "  0%|          | 0/100 [00:00<?, ?it/s]"
     ]
    },
    {
     "name": "stdout",
     "output_type": "stream",
     "text": [
      "Aesthetics Score: 0.5817054510116577 (Loss: 0.4182945489883423)\n",
      "Random Layout Loss: 5.917177677154541\n",
      "Combined Layout and Aesthetics Loss: 5.917177677154541\n"
     ]
    },
    {
     "name": "stderr",
     "output_type": "stream",
     "text": [
      "  1%|          | 1/100 [00:07<11:46,  7.14s/it]"
     ]
    },
    {
     "name": "stdout",
     "output_type": "stream",
     "text": [
      "Aesthetics Score: 0.6212102174758911 (Loss: 0.3787897825241089)\n",
      "Random Layout Loss: 5.933455944061279\n",
      "Combined Layout and Aesthetics Loss: 5.933455944061279\n"
     ]
    },
    {
     "name": "stderr",
     "output_type": "stream",
     "text": [
      "  2%|▏         | 2/100 [00:14<12:14,  7.49s/it]"
     ]
    },
    {
     "name": "stdout",
     "output_type": "stream",
     "text": [
      "Aesthetics Score: 0.6264922022819519 (Loss: 0.3735077977180481)\n",
      "Random Layout Loss: 6.366127014160156\n",
      "Combined Layout and Aesthetics Loss: 6.366127014160156\n"
     ]
    },
    {
     "name": "stderr",
     "output_type": "stream",
     "text": [
      "  3%|▎         | 3/100 [00:22<12:13,  7.56s/it]"
     ]
    },
    {
     "name": "stdout",
     "output_type": "stream",
     "text": [
      "Aesthetics Score: 0.6024333834648132 (Loss: 0.39756661653518677)\n",
      "Random Layout Loss: 6.523390769958496\n",
      "Combined Layout and Aesthetics Loss: 6.523390769958496\n"
     ]
    },
    {
     "name": "stderr",
     "output_type": "stream",
     "text": [
      "  4%|▍         | 4/100 [00:30<12:04,  7.55s/it]"
     ]
    },
    {
     "name": "stdout",
     "output_type": "stream",
     "text": [
      "Aesthetics Score: 0.6417615413665771 (Loss: 0.35823845863342285)\n",
      "Random Layout Loss: 6.397715091705322\n",
      "Combined Layout and Aesthetics Loss: 6.397715091705322\n"
     ]
    },
    {
     "name": "stderr",
     "output_type": "stream",
     "text": [
      "  5%|▌         | 5/100 [00:37<12:03,  7.61s/it]"
     ]
    },
    {
     "name": "stdout",
     "output_type": "stream",
     "text": [
      "Aesthetics Score: 0.6238563060760498 (Loss: 0.3761436939239502)\n",
      "Random Layout Loss: 6.583951473236084\n",
      "Combined Layout and Aesthetics Loss: 6.583951473236084\n"
     ]
    },
    {
     "name": "stderr",
     "output_type": "stream",
     "text": [
      "  6%|▌         | 6/100 [00:45<11:47,  7.53s/it]"
     ]
    },
    {
     "name": "stdout",
     "output_type": "stream",
     "text": [
      "Aesthetics Score: 0.6423947811126709 (Loss: 0.3576052188873291)\n",
      "Random Layout Loss: 6.150977611541748\n",
      "Combined Layout and Aesthetics Loss: 6.150977611541748\n"
     ]
    },
    {
     "name": "stderr",
     "output_type": "stream",
     "text": [
      "  7%|▋         | 7/100 [00:52<11:45,  7.58s/it]"
     ]
    },
    {
     "name": "stdout",
     "output_type": "stream",
     "text": [
      "Aesthetics Score: 0.6182316541671753 (Loss: 0.3817683458328247)\n",
      "Random Layout Loss: 5.958913326263428\n",
      "Combined Layout and Aesthetics Loss: 5.958913326263428\n"
     ]
    },
    {
     "name": "stderr",
     "output_type": "stream",
     "text": [
      "  8%|▊         | 8/100 [01:00<11:48,  7.70s/it]"
     ]
    },
    {
     "name": "stdout",
     "output_type": "stream",
     "text": [
      "Aesthetics Score: 0.6450389623641968 (Loss: 0.3549610376358032)\n",
      "Random Layout Loss: 6.0893025398254395\n",
      "Combined Layout and Aesthetics Loss: 6.0893025398254395\n"
     ]
    },
    {
     "name": "stderr",
     "output_type": "stream",
     "text": [
      "  9%|▉         | 9/100 [01:08<11:45,  7.76s/it]"
     ]
    },
    {
     "name": "stdout",
     "output_type": "stream",
     "text": [
      "Aesthetics Score: 0.618170440196991 (Loss: 0.38182955980300903)\n",
      "Random Layout Loss: 6.481472969055176\n",
      "Combined Layout and Aesthetics Loss: 6.481472969055176\n"
     ]
    },
    {
     "name": "stderr",
     "output_type": "stream",
     "text": [
      " 10%|█         | 10/100 [01:16<11:46,  7.86s/it]"
     ]
    },
    {
     "name": "stdout",
     "output_type": "stream",
     "text": [
      "Aesthetics Score: 0.6448515057563782 (Loss: 0.3551484942436218)\n",
      "Random Layout Loss: 6.221149444580078\n",
      "Combined Layout and Aesthetics Loss: 6.221149444580078\n"
     ]
    },
    {
     "name": "stderr",
     "output_type": "stream",
     "text": [
      " 11%|█         | 11/100 [01:24<11:32,  7.78s/it]"
     ]
    },
    {
     "name": "stdout",
     "output_type": "stream",
     "text": [
      "Aesthetics Score: 0.6066784858703613 (Loss: 0.39332151412963867)\n",
      "Random Layout Loss: 6.378675937652588\n",
      "Combined Layout and Aesthetics Loss: 6.378675937652588\n"
     ]
    },
    {
     "name": "stderr",
     "output_type": "stream",
     "text": [
      " 12%|█▏        | 12/100 [01:32<11:26,  7.80s/it]"
     ]
    },
    {
     "name": "stdout",
     "output_type": "stream",
     "text": [
      "Aesthetics Score: 0.6321277022361755 (Loss: 0.36787229776382446)\n",
      "Random Layout Loss: 6.202783584594727\n",
      "Combined Layout and Aesthetics Loss: 6.202783584594727\n"
     ]
    },
    {
     "name": "stderr",
     "output_type": "stream",
     "text": [
      " 13%|█▎        | 13/100 [01:40<11:20,  7.82s/it]"
     ]
    },
    {
     "name": "stdout",
     "output_type": "stream",
     "text": [
      "Aesthetics Score: 0.6149654388427734 (Loss: 0.38503456115722656)\n",
      "Random Layout Loss: 6.298046588897705\n",
      "Combined Layout and Aesthetics Loss: 6.298046588897705\n"
     ]
    },
    {
     "name": "stderr",
     "output_type": "stream",
     "text": [
      " 14%|█▍        | 14/100 [01:47<11:12,  7.82s/it]"
     ]
    },
    {
     "name": "stdout",
     "output_type": "stream",
     "text": [
      "Aesthetics Score: 0.6169602274894714 (Loss: 0.38303977251052856)\n",
      "Random Layout Loss: 6.320669651031494\n",
      "Combined Layout and Aesthetics Loss: 6.320669651031494\n"
     ]
    },
    {
     "name": "stderr",
     "output_type": "stream",
     "text": [
      " 15%|█▌        | 15/100 [01:55<11:05,  7.83s/it]"
     ]
    },
    {
     "name": "stdout",
     "output_type": "stream",
     "text": [
      "Aesthetics Score: 0.5987139940261841 (Loss: 0.4012860059738159)\n",
      "Random Layout Loss: 6.442827224731445\n",
      "Combined Layout and Aesthetics Loss: 6.442827224731445\n"
     ]
    },
    {
     "name": "stderr",
     "output_type": "stream",
     "text": [
      " 16%|█▌        | 16/100 [02:03<10:57,  7.83s/it]"
     ]
    },
    {
     "name": "stdout",
     "output_type": "stream",
     "text": [
      "Aesthetics Score: 0.6239728331565857 (Loss: 0.3760271668434143)\n",
      "Random Layout Loss: 6.132024765014648\n",
      "Combined Layout and Aesthetics Loss: 6.132024765014648\n"
     ]
    },
    {
     "name": "stderr",
     "output_type": "stream",
     "text": [
      " 17%|█▋        | 17/100 [02:11<10:51,  7.85s/it]"
     ]
    },
    {
     "name": "stdout",
     "output_type": "stream",
     "text": [
      "Aesthetics Score: 0.5873835682868958 (Loss: 0.41261643171310425)\n",
      "Random Layout Loss: 6.0676398277282715\n",
      "Combined Layout and Aesthetics Loss: 6.0676398277282715\n"
     ]
    },
    {
     "name": "stderr",
     "output_type": "stream",
     "text": [
      " 18%|█▊        | 18/100 [02:19<10:43,  7.85s/it]"
     ]
    },
    {
     "name": "stdout",
     "output_type": "stream",
     "text": [
      "Aesthetics Score: 0.6217822432518005 (Loss: 0.37821775674819946)\n",
      "Random Layout Loss: 6.329786777496338\n",
      "Combined Layout and Aesthetics Loss: 6.329786777496338\n"
     ]
    },
    {
     "name": "stderr",
     "output_type": "stream",
     "text": [
      " 19%|█▉        | 19/100 [02:26<10:30,  7.78s/it]"
     ]
    },
    {
     "name": "stdout",
     "output_type": "stream",
     "text": [
      "Aesthetics Score: 0.5940945148468018 (Loss: 0.40590548515319824)\n",
      "Random Layout Loss: 5.8497161865234375\n",
      "Combined Layout and Aesthetics Loss: 5.8497161865234375\n"
     ]
    },
    {
     "name": "stderr",
     "output_type": "stream",
     "text": [
      " 20%|██        | 20/100 [02:34<10:26,  7.83s/it]"
     ]
    },
    {
     "name": "stdout",
     "output_type": "stream",
     "text": [
      "Aesthetics Score: 0.6172695159912109 (Loss: 0.38273048400878906)\n",
      "Random Layout Loss: 6.13546895980835\n",
      "Combined Layout and Aesthetics Loss: 6.13546895980835\n"
     ]
    },
    {
     "name": "stderr",
     "output_type": "stream",
     "text": [
      " 21%|██        | 21/100 [02:43<10:29,  7.97s/it]"
     ]
    },
    {
     "name": "stdout",
     "output_type": "stream",
     "text": [
      "Aesthetics Score: 0.6050609946250916 (Loss: 0.39493900537490845)\n",
      "Random Layout Loss: 5.497252464294434\n",
      "Combined Layout and Aesthetics Loss: 5.497252464294434\n"
     ]
    },
    {
     "name": "stderr",
     "output_type": "stream",
     "text": [
      " 22%|██▏       | 22/100 [02:51<10:19,  7.95s/it]"
     ]
    },
    {
     "name": "stdout",
     "output_type": "stream",
     "text": [
      "Aesthetics Score: 0.6198184490203857 (Loss: 0.38018155097961426)\n",
      "Random Layout Loss: 6.078115940093994\n",
      "Combined Layout and Aesthetics Loss: 6.078115940093994\n"
     ]
    },
    {
     "name": "stderr",
     "output_type": "stream",
     "text": [
      " 23%|██▎       | 23/100 [02:59<10:12,  7.96s/it]"
     ]
    },
    {
     "name": "stdout",
     "output_type": "stream",
     "text": [
      "Aesthetics Score: 0.6063706874847412 (Loss: 0.3936293125152588)\n",
      "Random Layout Loss: 6.002077102661133\n",
      "Combined Layout and Aesthetics Loss: 6.002077102661133\n"
     ]
    },
    {
     "name": "stderr",
     "output_type": "stream",
     "text": [
      " 24%|██▍       | 24/100 [03:07<10:06,  7.98s/it]"
     ]
    },
    {
     "name": "stdout",
     "output_type": "stream",
     "text": [
      "Aesthetics Score: 0.6263404488563538 (Loss: 0.37365955114364624)\n",
      "Random Layout Loss: 6.2758660316467285\n",
      "Combined Layout and Aesthetics Loss: 6.2758660316467285\n"
     ]
    },
    {
     "name": "stderr",
     "output_type": "stream",
     "text": [
      " 25%|██▌       | 25/100 [03:14<09:46,  7.82s/it]"
     ]
    },
    {
     "name": "stdout",
     "output_type": "stream",
     "text": [
      "Aesthetics Score: 0.616378664970398 (Loss: 0.38362133502960205)\n",
      "Random Layout Loss: 6.354531764984131\n",
      "Combined Layout and Aesthetics Loss: 6.354531764984131\n"
     ]
    },
    {
     "name": "stderr",
     "output_type": "stream",
     "text": [
      " 26%|██▌       | 26/100 [03:22<09:46,  7.93s/it]"
     ]
    },
    {
     "name": "stdout",
     "output_type": "stream",
     "text": [
      "Aesthetics Score: 0.6459030508995056 (Loss: 0.3540969491004944)\n",
      "Random Layout Loss: 6.410568714141846\n",
      "Combined Layout and Aesthetics Loss: 6.410568714141846\n"
     ]
    },
    {
     "name": "stderr",
     "output_type": "stream",
     "text": [
      " 27%|██▋       | 27/100 [03:30<09:33,  7.85s/it]"
     ]
    },
    {
     "name": "stdout",
     "output_type": "stream",
     "text": [
      "Aesthetics Score: 0.6314173340797424 (Loss: 0.36858266592025757)\n",
      "Random Layout Loss: 6.3903985023498535\n",
      "Combined Layout and Aesthetics Loss: 6.3903985023498535\n"
     ]
    },
    {
     "name": "stderr",
     "output_type": "stream",
     "text": [
      " 28%|██▊       | 28/100 [03:38<09:26,  7.87s/it]"
     ]
    },
    {
     "name": "stdout",
     "output_type": "stream",
     "text": [
      "Aesthetics Score: 0.6220521926879883 (Loss: 0.3779478073120117)\n",
      "Random Layout Loss: 6.544811725616455\n",
      "Combined Layout and Aesthetics Loss: 6.544811725616455\n"
     ]
    },
    {
     "name": "stderr",
     "output_type": "stream",
     "text": [
      " 29%|██▉       | 29/100 [03:46<09:24,  7.95s/it]"
     ]
    },
    {
     "name": "stdout",
     "output_type": "stream",
     "text": [
      "Aesthetics Score: 0.628131628036499 (Loss: 0.371868371963501)\n",
      "Random Layout Loss: 6.597578048706055\n",
      "Combined Layout and Aesthetics Loss: 6.597578048706055\n"
     ]
    },
    {
     "name": "stderr",
     "output_type": "stream",
     "text": [
      " 30%|███       | 30/100 [03:54<09:14,  7.93s/it]"
     ]
    },
    {
     "name": "stdout",
     "output_type": "stream",
     "text": [
      "Aesthetics Score: 0.6098873615264893 (Loss: 0.39011263847351074)\n",
      "Random Layout Loss: 6.250706672668457\n",
      "Combined Layout and Aesthetics Loss: 6.250706672668457\n"
     ]
    },
    {
     "name": "stderr",
     "output_type": "stream",
     "text": [
      " 31%|███       | 31/100 [04:02<09:08,  7.94s/it]"
     ]
    },
    {
     "name": "stdout",
     "output_type": "stream",
     "text": [
      "Aesthetics Score: 0.6282007694244385 (Loss: 0.3717992305755615)\n",
      "Random Layout Loss: 6.26576566696167\n",
      "Combined Layout and Aesthetics Loss: 6.26576566696167\n"
     ]
    },
    {
     "name": "stderr",
     "output_type": "stream",
     "text": [
      " 32%|███▏      | 32/100 [04:10<09:00,  7.95s/it]"
     ]
    },
    {
     "name": "stdout",
     "output_type": "stream",
     "text": [
      "Aesthetics Score: 0.6097524762153625 (Loss: 0.39024752378463745)\n",
      "Random Layout Loss: 6.194605350494385\n",
      "Combined Layout and Aesthetics Loss: 6.194605350494385\n"
     ]
    },
    {
     "name": "stderr",
     "output_type": "stream",
     "text": [
      " 33%|███▎      | 33/100 [04:18<08:48,  7.89s/it]"
     ]
    },
    {
     "name": "stdout",
     "output_type": "stream",
     "text": [
      "Aesthetics Score: 0.6266826391220093 (Loss: 0.3733173608779907)\n",
      "Random Layout Loss: 6.328847885131836\n",
      "Combined Layout and Aesthetics Loss: 6.328847885131836\n"
     ]
    },
    {
     "name": "stderr",
     "output_type": "stream",
     "text": [
      " 34%|███▍      | 34/100 [04:26<08:48,  8.01s/it]"
     ]
    },
    {
     "name": "stdout",
     "output_type": "stream",
     "text": [
      "Aesthetics Score: 0.6372461318969727 (Loss: 0.36275386810302734)\n",
      "Random Layout Loss: 6.51625394821167\n",
      "Combined Layout and Aesthetics Loss: 6.51625394821167\n"
     ]
    },
    {
     "name": "stderr",
     "output_type": "stream",
     "text": [
      " 35%|███▌      | 35/100 [04:33<08:32,  7.88s/it]"
     ]
    },
    {
     "name": "stdout",
     "output_type": "stream",
     "text": [
      "Aesthetics Score: 0.6795099973678589 (Loss: 0.3204900026321411)\n",
      "Random Layout Loss: 6.695711135864258\n",
      "Combined Layout and Aesthetics Loss: 6.695711135864258\n"
     ]
    },
    {
     "name": "stderr",
     "output_type": "stream",
     "text": [
      " 36%|███▌      | 36/100 [04:42<08:31,  7.99s/it]"
     ]
    },
    {
     "name": "stdout",
     "output_type": "stream",
     "text": [
      "Aesthetics Score: 0.6606630086898804 (Loss: 0.33933699131011963)\n",
      "Random Layout Loss: 7.1160783767700195\n",
      "Combined Layout and Aesthetics Loss: 7.1160783767700195\n"
     ]
    },
    {
     "name": "stderr",
     "output_type": "stream",
     "text": [
      " 37%|███▋      | 37/100 [04:49<08:18,  7.91s/it]"
     ]
    },
    {
     "name": "stdout",
     "output_type": "stream",
     "text": [
      "Aesthetics Score: 0.6585975885391235 (Loss: 0.34140241146087646)\n",
      "Random Layout Loss: 7.139948844909668\n",
      "Combined Layout and Aesthetics Loss: 7.139948844909668\n"
     ]
    },
    {
     "name": "stderr",
     "output_type": "stream",
     "text": [
      " 38%|███▊      | 38/100 [04:58<08:18,  8.03s/it]"
     ]
    },
    {
     "name": "stdout",
     "output_type": "stream",
     "text": [
      "Aesthetics Score: 0.6346674561500549 (Loss: 0.36533254384994507)\n",
      "Random Layout Loss: 6.941664695739746\n",
      "Combined Layout and Aesthetics Loss: 6.941664695739746\n"
     ]
    },
    {
     "name": "stderr",
     "output_type": "stream",
     "text": [
      " 39%|███▉      | 39/100 [05:06<08:08,  8.01s/it]"
     ]
    },
    {
     "name": "stdout",
     "output_type": "stream",
     "text": [
      "Aesthetics Score: 0.6420668363571167 (Loss: 0.3579331636428833)\n",
      "Random Layout Loss: 6.422644138336182\n",
      "Combined Layout and Aesthetics Loss: 6.422644138336182\n"
     ]
    },
    {
     "name": "stderr",
     "output_type": "stream",
     "text": [
      " 40%|████      | 40/100 [05:14<08:03,  8.06s/it]"
     ]
    },
    {
     "name": "stdout",
     "output_type": "stream",
     "text": [
      "Aesthetics Score: 0.6178357005119324 (Loss: 0.3821642994880676)\n",
      "Random Layout Loss: 6.5299973487854\n",
      "Combined Layout and Aesthetics Loss: 6.5299973487854\n"
     ]
    },
    {
     "name": "stderr",
     "output_type": "stream",
     "text": [
      " 41%|████      | 41/100 [05:22<07:55,  8.06s/it]"
     ]
    },
    {
     "name": "stdout",
     "output_type": "stream",
     "text": [
      "Aesthetics Score: 0.6423327922821045 (Loss: 0.3576672077178955)\n",
      "Random Layout Loss: 6.518354415893555\n",
      "Combined Layout and Aesthetics Loss: 6.518354415893555\n"
     ]
    },
    {
     "name": "stderr",
     "output_type": "stream",
     "text": [
      " 42%|████▏     | 42/100 [05:30<07:48,  8.07s/it]"
     ]
    },
    {
     "name": "stdout",
     "output_type": "stream",
     "text": [
      "Aesthetics Score: 0.6140329837799072 (Loss: 0.3859670162200928)\n",
      "Random Layout Loss: 6.668524742126465\n",
      "Combined Layout and Aesthetics Loss: 6.668524742126465\n"
     ]
    },
    {
     "name": "stderr",
     "output_type": "stream",
     "text": [
      " 43%|████▎     | 43/100 [05:38<07:40,  8.08s/it]"
     ]
    },
    {
     "name": "stdout",
     "output_type": "stream",
     "text": [
      "Aesthetics Score: 0.6304992437362671 (Loss: 0.3695007562637329)\n",
      "Random Layout Loss: 6.7219109535217285\n",
      "Combined Layout and Aesthetics Loss: 6.7219109535217285\n"
     ]
    },
    {
     "name": "stderr",
     "output_type": "stream",
     "text": [
      " 44%|████▍     | 44/100 [05:46<07:23,  7.93s/it]"
     ]
    },
    {
     "name": "stdout",
     "output_type": "stream",
     "text": [
      "Aesthetics Score: 0.6328110694885254 (Loss: 0.3671889305114746)\n",
      "Random Layout Loss: 6.578462600708008\n",
      "Combined Layout and Aesthetics Loss: 6.578462600708008\n"
     ]
    },
    {
     "name": "stderr",
     "output_type": "stream",
     "text": [
      " 45%|████▌     | 45/100 [05:53<07:14,  7.89s/it]"
     ]
    },
    {
     "name": "stdout",
     "output_type": "stream",
     "text": [
      "Aesthetics Score: 0.642924964427948 (Loss: 0.357075035572052)\n",
      "Random Layout Loss: 6.6335062980651855\n",
      "Combined Layout and Aesthetics Loss: 6.6335062980651855\n"
     ]
    },
    {
     "name": "stderr",
     "output_type": "stream",
     "text": [
      " 46%|████▌     | 46/100 [06:01<07:01,  7.80s/it]"
     ]
    },
    {
     "name": "stdout",
     "output_type": "stream",
     "text": [
      "Aesthetics Score: 0.5909520983695984 (Loss: 0.4090479016304016)\n",
      "Random Layout Loss: 7.0836100578308105\n",
      "Combined Layout and Aesthetics Loss: 7.0836100578308105\n"
     ]
    },
    {
     "name": "stderr",
     "output_type": "stream",
     "text": [
      " 47%|████▋     | 47/100 [06:09<06:56,  7.86s/it]"
     ]
    },
    {
     "name": "stdout",
     "output_type": "stream",
     "text": [
      "Aesthetics Score: 0.6152243614196777 (Loss: 0.38477563858032227)\n",
      "Random Layout Loss: 6.940160274505615\n",
      "Combined Layout and Aesthetics Loss: 6.940160274505615\n"
     ]
    },
    {
     "name": "stderr",
     "output_type": "stream",
     "text": [
      " 48%|████▊     | 48/100 [06:17<06:55,  7.98s/it]"
     ]
    },
    {
     "name": "stdout",
     "output_type": "stream",
     "text": [
      "Aesthetics Score: 0.6319335103034973 (Loss: 0.3680664896965027)\n",
      "Random Layout Loss: 6.8318257331848145\n",
      "Combined Layout and Aesthetics Loss: 6.8318257331848145\n"
     ]
    },
    {
     "name": "stderr",
     "output_type": "stream",
     "text": [
      " 49%|████▉     | 49/100 [06:26<06:52,  8.08s/it]"
     ]
    },
    {
     "name": "stdout",
     "output_type": "stream",
     "text": [
      "Aesthetics Score: 0.6054103374481201 (Loss: 0.3945896625518799)\n",
      "Random Layout Loss: 6.832793712615967\n",
      "Combined Layout and Aesthetics Loss: 6.832793712615967\n"
     ]
    },
    {
     "name": "stderr",
     "output_type": "stream",
     "text": [
      " 50%|█████     | 50/100 [06:34<06:43,  8.08s/it]"
     ]
    },
    {
     "name": "stdout",
     "output_type": "stream",
     "text": [
      "Aesthetics Score: 0.5862917900085449 (Loss: 0.4137082099914551)\n",
      "Random Layout Loss: 6.602778911590576\n",
      "Combined Layout and Aesthetics Loss: 6.602778911590576\n"
     ]
    },
    {
     "name": "stderr",
     "output_type": "stream",
     "text": [
      " 51%|█████     | 51/100 [06:42<06:36,  8.10s/it]"
     ]
    },
    {
     "name": "stdout",
     "output_type": "stream",
     "text": [
      "Aesthetics Score: 0.5975286960601807 (Loss: 0.40247130393981934)\n",
      "Random Layout Loss: 6.3378071784973145\n",
      "Combined Layout and Aesthetics Loss: 6.3378071784973145\n"
     ]
    },
    {
     "name": "stderr",
     "output_type": "stream",
     "text": [
      " 52%|█████▏    | 52/100 [06:50<06:29,  8.11s/it]"
     ]
    },
    {
     "name": "stdout",
     "output_type": "stream",
     "text": [
      "Aesthetics Score: 0.6076770424842834 (Loss: 0.39232295751571655)\n",
      "Random Layout Loss: 6.422049045562744\n",
      "Combined Layout and Aesthetics Loss: 6.422049045562744\n"
     ]
    },
    {
     "name": "stderr",
     "output_type": "stream",
     "text": [
      " 53%|█████▎    | 53/100 [06:58<06:16,  8.02s/it]"
     ]
    },
    {
     "name": "stdout",
     "output_type": "stream",
     "text": [
      "Aesthetics Score: 0.6263964772224426 (Loss: 0.3736035227775574)\n",
      "Random Layout Loss: 6.21369743347168\n",
      "Combined Layout and Aesthetics Loss: 6.21369743347168\n"
     ]
    },
    {
     "name": "stderr",
     "output_type": "stream",
     "text": [
      " 54%|█████▍    | 54/100 [07:06<06:10,  8.06s/it]"
     ]
    },
    {
     "name": "stdout",
     "output_type": "stream",
     "text": [
      "Aesthetics Score: 0.6107782125473022 (Loss: 0.38922178745269775)\n",
      "Random Layout Loss: 6.204097270965576\n",
      "Combined Layout and Aesthetics Loss: 6.204097270965576\n"
     ]
    },
    {
     "name": "stderr",
     "output_type": "stream",
     "text": [
      " 55%|█████▌    | 55/100 [07:14<06:03,  8.08s/it]"
     ]
    },
    {
     "name": "stdout",
     "output_type": "stream",
     "text": [
      "Aesthetics Score: 0.6364583969116211 (Loss: 0.3635416030883789)\n",
      "Random Layout Loss: 6.102618217468262\n",
      "Combined Layout and Aesthetics Loss: 6.102618217468262\n"
     ]
    },
    {
     "name": "stderr",
     "output_type": "stream",
     "text": [
      " 56%|█████▌    | 56/100 [07:22<05:54,  8.06s/it]"
     ]
    },
    {
     "name": "stdout",
     "output_type": "stream",
     "text": [
      "Aesthetics Score: 0.6304410696029663 (Loss: 0.3695589303970337)\n",
      "Random Layout Loss: 6.54450798034668\n",
      "Combined Layout and Aesthetics Loss: 6.54450798034668\n"
     ]
    },
    {
     "name": "stderr",
     "output_type": "stream",
     "text": [
      " 57%|█████▋    | 57/100 [07:30<05:50,  8.15s/it]"
     ]
    },
    {
     "name": "stdout",
     "output_type": "stream",
     "text": [
      "Aesthetics Score: 0.6215697526931763 (Loss: 0.37843024730682373)\n",
      "Random Layout Loss: 6.233956336975098\n",
      "Combined Layout and Aesthetics Loss: 6.233956336975098\n"
     ]
    },
    {
     "name": "stderr",
     "output_type": "stream",
     "text": [
      " 58%|█████▊    | 58/100 [07:39<05:45,  8.23s/it]"
     ]
    },
    {
     "name": "stdout",
     "output_type": "stream",
     "text": [
      "Aesthetics Score: 0.6318592429161072 (Loss: 0.3681407570838928)\n",
      "Random Layout Loss: 6.736555576324463\n",
      "Combined Layout and Aesthetics Loss: 6.736555576324463\n"
     ]
    },
    {
     "name": "stderr",
     "output_type": "stream",
     "text": [
      " 59%|█████▉    | 59/100 [07:47<05:36,  8.20s/it]"
     ]
    },
    {
     "name": "stdout",
     "output_type": "stream",
     "text": [
      "Aesthetics Score: 0.6127609610557556 (Loss: 0.3872390389442444)\n",
      "Random Layout Loss: 6.792719841003418\n",
      "Combined Layout and Aesthetics Loss: 6.792719841003418\n"
     ]
    },
    {
     "name": "stderr",
     "output_type": "stream",
     "text": [
      " 60%|██████    | 60/100 [07:55<05:25,  8.13s/it]"
     ]
    },
    {
     "name": "stdout",
     "output_type": "stream",
     "text": [
      "Aesthetics Score: 0.6406346559524536 (Loss: 0.3593653440475464)\n",
      "Random Layout Loss: 6.560831546783447\n",
      "Combined Layout and Aesthetics Loss: 6.560831546783447\n"
     ]
    },
    {
     "name": "stderr",
     "output_type": "stream",
     "text": [
      " 61%|██████    | 61/100 [08:03<05:13,  8.04s/it]"
     ]
    },
    {
     "name": "stdout",
     "output_type": "stream",
     "text": [
      "Aesthetics Score: 0.6090543866157532 (Loss: 0.3909456133842468)\n",
      "Random Layout Loss: 6.837155818939209\n",
      "Combined Layout and Aesthetics Loss: 6.837155818939209\n"
     ]
    },
    {
     "name": "stderr",
     "output_type": "stream",
     "text": [
      " 62%|██████▏   | 62/100 [08:11<05:05,  8.04s/it]"
     ]
    },
    {
     "name": "stdout",
     "output_type": "stream",
     "text": [
      "Aesthetics Score: 0.627974271774292 (Loss: 0.372025728225708)\n",
      "Random Layout Loss: 6.373381614685059\n",
      "Combined Layout and Aesthetics Loss: 6.373381614685059\n"
     ]
    },
    {
     "name": "stderr",
     "output_type": "stream",
     "text": [
      " 63%|██████▎   | 63/100 [08:19<04:57,  8.04s/it]"
     ]
    },
    {
     "name": "stdout",
     "output_type": "stream",
     "text": [
      "Aesthetics Score: 0.6110830307006836 (Loss: 0.3889169692993164)\n",
      "Random Layout Loss: 6.57587194442749\n",
      "Combined Layout and Aesthetics Loss: 6.57587194442749\n"
     ]
    },
    {
     "name": "stderr",
     "output_type": "stream",
     "text": [
      " 64%|██████▍   | 64/100 [08:27<04:50,  8.06s/it]"
     ]
    },
    {
     "name": "stdout",
     "output_type": "stream",
     "text": [
      "Aesthetics Score: 0.6379931569099426 (Loss: 0.3620068430900574)\n",
      "Random Layout Loss: 6.294442176818848\n",
      "Combined Layout and Aesthetics Loss: 6.294442176818848\n"
     ]
    },
    {
     "name": "stderr",
     "output_type": "stream",
     "text": [
      " 65%|██████▌   | 65/100 [08:35<04:39,  7.98s/it]"
     ]
    },
    {
     "name": "stdout",
     "output_type": "stream",
     "text": [
      "Aesthetics Score: 0.604619562625885 (Loss: 0.395380437374115)\n",
      "Random Layout Loss: 6.40500020980835\n",
      "Combined Layout and Aesthetics Loss: 6.40500020980835\n"
     ]
    },
    {
     "name": "stderr",
     "output_type": "stream",
     "text": [
      " 66%|██████▌   | 66/100 [08:43<04:29,  7.94s/it]"
     ]
    },
    {
     "name": "stdout",
     "output_type": "stream",
     "text": [
      "Aesthetics Score: 0.6393467783927917 (Loss: 0.36065322160720825)\n",
      "Random Layout Loss: 6.0982346534729\n",
      "Combined Layout and Aesthetics Loss: 6.0982346534729\n"
     ]
    },
    {
     "name": "stderr",
     "output_type": "stream",
     "text": [
      " 67%|██████▋   | 67/100 [08:50<04:21,  7.91s/it]"
     ]
    },
    {
     "name": "stdout",
     "output_type": "stream",
     "text": [
      "Aesthetics Score: 0.615127682685852 (Loss: 0.38487231731414795)\n",
      "Random Layout Loss: 6.847426891326904\n",
      "Combined Layout and Aesthetics Loss: 6.847426891326904\n"
     ]
    },
    {
     "name": "stderr",
     "output_type": "stream",
     "text": [
      " 68%|██████▊   | 68/100 [08:58<04:13,  7.93s/it]"
     ]
    },
    {
     "name": "stdout",
     "output_type": "stream",
     "text": [
      "Aesthetics Score: 0.6399661302566528 (Loss: 0.36003386974334717)\n",
      "Random Layout Loss: 6.631686687469482\n",
      "Combined Layout and Aesthetics Loss: 6.631686687469482\n"
     ]
    },
    {
     "name": "stderr",
     "output_type": "stream",
     "text": [
      " 69%|██████▉   | 69/100 [09:07<04:08,  8.02s/it]"
     ]
    },
    {
     "name": "stdout",
     "output_type": "stream",
     "text": [
      "Aesthetics Score: 0.6492477059364319 (Loss: 0.3507522940635681)\n",
      "Random Layout Loss: 6.849961757659912\n",
      "Combined Layout and Aesthetics Loss: 6.849961757659912\n"
     ]
    },
    {
     "name": "stderr",
     "output_type": "stream",
     "text": [
      " 70%|███████   | 70/100 [09:15<04:02,  8.09s/it]"
     ]
    },
    {
     "name": "stdout",
     "output_type": "stream",
     "text": [
      "Aesthetics Score: 0.6372186541557312 (Loss: 0.3627813458442688)\n",
      "Random Layout Loss: 6.998339653015137\n",
      "Combined Layout and Aesthetics Loss: 6.998339653015137\n"
     ]
    },
    {
     "name": "stderr",
     "output_type": "stream",
     "text": [
      " 71%|███████   | 71/100 [09:23<03:54,  8.07s/it]"
     ]
    },
    {
     "name": "stdout",
     "output_type": "stream",
     "text": [
      "Aesthetics Score: 0.6233941316604614 (Loss: 0.3766058683395386)\n",
      "Random Layout Loss: 6.853526592254639\n",
      "Combined Layout and Aesthetics Loss: 6.853526592254639\n"
     ]
    },
    {
     "name": "stderr",
     "output_type": "stream",
     "text": [
      " 72%|███████▏  | 72/100 [09:31<03:47,  8.11s/it]"
     ]
    },
    {
     "name": "stdout",
     "output_type": "stream",
     "text": [
      "Aesthetics Score: 0.6265485286712646 (Loss: 0.37345147132873535)\n",
      "Random Layout Loss: 6.804309368133545\n",
      "Combined Layout and Aesthetics Loss: 6.804309368133545\n"
     ]
    },
    {
     "name": "stderr",
     "output_type": "stream",
     "text": [
      " 73%|███████▎  | 73/100 [09:39<03:35,  7.98s/it]"
     ]
    },
    {
     "name": "stdout",
     "output_type": "stream",
     "text": [
      "Aesthetics Score: 0.6445517539978027 (Loss: 0.35544824600219727)\n",
      "Random Layout Loss: 6.859144687652588\n",
      "Combined Layout and Aesthetics Loss: 6.859144687652588\n"
     ]
    },
    {
     "name": "stderr",
     "output_type": "stream",
     "text": [
      " 74%|███████▍  | 74/100 [09:47<03:28,  8.01s/it]"
     ]
    },
    {
     "name": "stdout",
     "output_type": "stream",
     "text": [
      "Aesthetics Score: 0.6541053652763367 (Loss: 0.34589463472366333)\n",
      "Random Layout Loss: 6.892122268676758\n",
      "Combined Layout and Aesthetics Loss: 6.892122268676758\n"
     ]
    },
    {
     "name": "stderr",
     "output_type": "stream",
     "text": [
      " 75%|███████▌  | 75/100 [09:55<03:21,  8.05s/it]"
     ]
    },
    {
     "name": "stdout",
     "output_type": "stream",
     "text": [
      "Aesthetics Score: 0.6421761512756348 (Loss: 0.35782384872436523)\n",
      "Random Layout Loss: 6.286938190460205\n",
      "Combined Layout and Aesthetics Loss: 6.286938190460205\n"
     ]
    },
    {
     "name": "stderr",
     "output_type": "stream",
     "text": [
      " 76%|███████▌  | 76/100 [10:03<03:12,  8.01s/it]"
     ]
    },
    {
     "name": "stdout",
     "output_type": "stream",
     "text": [
      "Aesthetics Score: 0.6619607210159302 (Loss: 0.3380392789840698)\n",
      "Random Layout Loss: 6.568339824676514\n",
      "Combined Layout and Aesthetics Loss: 6.568339824676514\n"
     ]
    },
    {
     "name": "stderr",
     "output_type": "stream",
     "text": [
      " 77%|███████▋  | 77/100 [10:11<03:02,  7.95s/it]"
     ]
    },
    {
     "name": "stdout",
     "output_type": "stream",
     "text": [
      "Aesthetics Score: 0.6181025505065918 (Loss: 0.3818974494934082)\n",
      "Random Layout Loss: 6.388552665710449\n",
      "Combined Layout and Aesthetics Loss: 6.388552665710449\n"
     ]
    },
    {
     "name": "stderr",
     "output_type": "stream",
     "text": [
      " 78%|███████▊  | 78/100 [10:19<02:54,  7.94s/it]"
     ]
    },
    {
     "name": "stdout",
     "output_type": "stream",
     "text": [
      "Aesthetics Score: 0.6533685326576233 (Loss: 0.3466314673423767)\n",
      "Random Layout Loss: 6.3470139503479\n",
      "Combined Layout and Aesthetics Loss: 6.3470139503479\n"
     ]
    },
    {
     "name": "stderr",
     "output_type": "stream",
     "text": [
      " 79%|███████▉  | 79/100 [10:26<02:44,  7.85s/it]"
     ]
    },
    {
     "name": "stdout",
     "output_type": "stream",
     "text": [
      "Aesthetics Score: 0.6554437875747681 (Loss: 0.34455621242523193)\n",
      "Random Layout Loss: 6.800805568695068\n",
      "Combined Layout and Aesthetics Loss: 6.800805568695068\n"
     ]
    },
    {
     "name": "stderr",
     "output_type": "stream",
     "text": [
      " 80%|████████  | 80/100 [10:34<02:35,  7.79s/it]"
     ]
    },
    {
     "name": "stdout",
     "output_type": "stream",
     "text": [
      "Aesthetics Score: 0.6545693874359131 (Loss: 0.3454306125640869)\n",
      "Random Layout Loss: 6.449512481689453\n",
      "Combined Layout and Aesthetics Loss: 6.449512481689453\n"
     ]
    },
    {
     "name": "stderr",
     "output_type": "stream",
     "text": [
      " 81%|████████  | 81/100 [10:42<02:28,  7.84s/it]"
     ]
    },
    {
     "name": "stdout",
     "output_type": "stream",
     "text": [
      "Aesthetics Score: 0.6269930005073547 (Loss: 0.37300699949264526)\n",
      "Random Layout Loss: 7.023754119873047\n",
      "Combined Layout and Aesthetics Loss: 7.023754119873047\n"
     ]
    },
    {
     "name": "stderr",
     "output_type": "stream",
     "text": [
      " 82%|████████▏ | 82/100 [10:50<02:20,  7.80s/it]"
     ]
    },
    {
     "name": "stdout",
     "output_type": "stream",
     "text": [
      "Aesthetics Score: 0.6034515500068665 (Loss: 0.39654844999313354)\n",
      "Random Layout Loss: 6.787905216217041\n",
      "Combined Layout and Aesthetics Loss: 6.787905216217041\n"
     ]
    },
    {
     "name": "stderr",
     "output_type": "stream",
     "text": [
      " 83%|████████▎ | 83/100 [10:57<02:10,  7.69s/it]"
     ]
    },
    {
     "name": "stdout",
     "output_type": "stream",
     "text": [
      "Aesthetics Score: 0.5770367980003357 (Loss: 0.4229632019996643)\n",
      "Random Layout Loss: 6.542065143585205\n",
      "Combined Layout and Aesthetics Loss: 6.542065143585205\n"
     ]
    },
    {
     "name": "stderr",
     "output_type": "stream",
     "text": [
      " 84%|████████▍ | 84/100 [11:05<02:04,  7.80s/it]"
     ]
    },
    {
     "name": "stdout",
     "output_type": "stream",
     "text": [
      "Aesthetics Score: 0.653752326965332 (Loss: 0.34624767303466797)\n",
      "Random Layout Loss: 6.849580764770508\n",
      "Combined Layout and Aesthetics Loss: 6.849580764770508\n"
     ]
    },
    {
     "name": "stderr",
     "output_type": "stream",
     "text": [
      " 85%|████████▌ | 85/100 [11:13<01:57,  7.82s/it]"
     ]
    },
    {
     "name": "stdout",
     "output_type": "stream",
     "text": [
      "Aesthetics Score: 0.6178795099258423 (Loss: 0.3821204900741577)\n",
      "Random Layout Loss: 6.890870094299316\n",
      "Combined Layout and Aesthetics Loss: 6.890870094299316\n"
     ]
    },
    {
     "name": "stderr",
     "output_type": "stream",
     "text": [
      " 86%|████████▌ | 86/100 [11:21<01:48,  7.77s/it]"
     ]
    },
    {
     "name": "stdout",
     "output_type": "stream",
     "text": [
      "Aesthetics Score: 0.6316372752189636 (Loss: 0.3683627247810364)\n",
      "Random Layout Loss: 6.811663627624512\n",
      "Combined Layout and Aesthetics Loss: 6.811663627624512\n"
     ]
    },
    {
     "name": "stderr",
     "output_type": "stream",
     "text": [
      " 87%|████████▋ | 87/100 [11:29<01:41,  7.80s/it]"
     ]
    },
    {
     "name": "stdout",
     "output_type": "stream",
     "text": [
      "Aesthetics Score: 0.5842412710189819 (Loss: 0.41575872898101807)\n",
      "Random Layout Loss: 6.548242092132568\n",
      "Combined Layout and Aesthetics Loss: 6.548242092132568\n"
     ]
    },
    {
     "name": "stderr",
     "output_type": "stream",
     "text": [
      " 88%|████████▊ | 88/100 [11:36<01:34,  7.83s/it]"
     ]
    },
    {
     "name": "stdout",
     "output_type": "stream",
     "text": [
      "Aesthetics Score: 0.612265408039093 (Loss: 0.387734591960907)\n",
      "Random Layout Loss: 6.744845390319824\n",
      "Combined Layout and Aesthetics Loss: 6.744845390319824\n"
     ]
    },
    {
     "name": "stderr",
     "output_type": "stream",
     "text": [
      " 89%|████████▉ | 89/100 [11:45<01:27,  7.96s/it]"
     ]
    },
    {
     "name": "stdout",
     "output_type": "stream",
     "text": [
      "Aesthetics Score: 0.6147874593734741 (Loss: 0.3852125406265259)\n",
      "Random Layout Loss: 7.010502815246582\n",
      "Combined Layout and Aesthetics Loss: 7.010502815246582\n"
     ]
    },
    {
     "name": "stderr",
     "output_type": "stream",
     "text": [
      " 90%|█████████ | 90/100 [11:53<01:20,  8.05s/it]"
     ]
    },
    {
     "name": "stdout",
     "output_type": "stream",
     "text": [
      "Aesthetics Score: 0.6431556940078735 (Loss: 0.35684430599212646)\n",
      "Random Layout Loss: 6.700486660003662\n",
      "Combined Layout and Aesthetics Loss: 6.700486660003662\n"
     ]
    },
    {
     "name": "stderr",
     "output_type": "stream",
     "text": [
      " 91%|█████████ | 91/100 [12:01<01:12,  8.06s/it]"
     ]
    },
    {
     "name": "stdout",
     "output_type": "stream",
     "text": [
      "Aesthetics Score: 0.6474258303642273 (Loss: 0.3525741696357727)\n",
      "Random Layout Loss: 6.726515293121338\n",
      "Combined Layout and Aesthetics Loss: 6.726515293121338\n"
     ]
    },
    {
     "name": "stderr",
     "output_type": "stream",
     "text": [
      " 92%|█████████▏| 92/100 [12:09<01:04,  8.11s/it]"
     ]
    },
    {
     "name": "stdout",
     "output_type": "stream",
     "text": [
      "Aesthetics Score: 0.633720874786377 (Loss: 0.36627912521362305)\n",
      "Random Layout Loss: 6.566371440887451\n",
      "Combined Layout and Aesthetics Loss: 6.566371440887451\n"
     ]
    },
    {
     "name": "stderr",
     "output_type": "stream",
     "text": [
      " 93%|█████████▎| 93/100 [12:17<00:55,  7.94s/it]"
     ]
    },
    {
     "name": "stdout",
     "output_type": "stream",
     "text": [
      "Aesthetics Score: 0.6104332208633423 (Loss: 0.3895667791366577)\n",
      "Random Layout Loss: 6.534372329711914\n",
      "Combined Layout and Aesthetics Loss: 6.534372329711914\n"
     ]
    },
    {
     "name": "stderr",
     "output_type": "stream",
     "text": [
      " 94%|█████████▍| 94/100 [12:25<00:48,  8.01s/it]"
     ]
    },
    {
     "name": "stdout",
     "output_type": "stream",
     "text": [
      "Aesthetics Score: 0.6503564715385437 (Loss: 0.3496435284614563)\n",
      "Random Layout Loss: 6.482652187347412\n",
      "Combined Layout and Aesthetics Loss: 6.482652187347412\n"
     ]
    },
    {
     "name": "stderr",
     "output_type": "stream",
     "text": [
      " 95%|█████████▌| 95/100 [12:33<00:40,  8.05s/it]"
     ]
    },
    {
     "name": "stdout",
     "output_type": "stream",
     "text": [
      "Aesthetics Score: 0.6521592140197754 (Loss: 0.3478407859802246)\n",
      "Random Layout Loss: 6.901039123535156\n",
      "Combined Layout and Aesthetics Loss: 6.901039123535156\n"
     ]
    },
    {
     "name": "stderr",
     "output_type": "stream",
     "text": [
      " 96%|█████████▌| 96/100 [12:41<00:32,  8.06s/it]"
     ]
    },
    {
     "name": "stdout",
     "output_type": "stream",
     "text": [
      "Aesthetics Score: 0.6389263868331909 (Loss: 0.3610736131668091)\n",
      "Random Layout Loss: 6.751076698303223\n",
      "Combined Layout and Aesthetics Loss: 6.751076698303223\n"
     ]
    },
    {
     "name": "stderr",
     "output_type": "stream",
     "text": [
      " 97%|█████████▋| 97/100 [12:49<00:24,  8.07s/it]"
     ]
    },
    {
     "name": "stdout",
     "output_type": "stream",
     "text": [
      "Aesthetics Score: 0.6080570816993713 (Loss: 0.39194291830062866)\n",
      "Random Layout Loss: 6.605864524841309\n",
      "Combined Layout and Aesthetics Loss: 6.605864524841309\n"
     ]
    },
    {
     "name": "stderr",
     "output_type": "stream",
     "text": [
      " 98%|█████████▊| 98/100 [12:57<00:16,  8.06s/it]"
     ]
    },
    {
     "name": "stdout",
     "output_type": "stream",
     "text": [
      "Aesthetics Score: 0.639028787612915 (Loss: 0.36097121238708496)\n",
      "Random Layout Loss: 6.854550838470459\n",
      "Combined Layout and Aesthetics Loss: 6.854550838470459\n"
     ]
    },
    {
     "name": "stderr",
     "output_type": "stream",
     "text": [
      " 99%|█████████▉| 99/100 [13:06<00:08,  8.15s/it]"
     ]
    },
    {
     "name": "stdout",
     "output_type": "stream",
     "text": [
      "Aesthetics Score: 0.6520819664001465 (Loss: 0.3479180335998535)\n",
      "Random Layout Loss: 6.605073928833008\n",
      "Combined Layout and Aesthetics Loss: 6.605073928833008\n"
     ]
    },
    {
     "name": "stderr",
     "output_type": "stream",
     "text": [
      "100%|██████████| 100/100 [13:14<00:00,  7.94s/it]"
     ]
    },
    {
     "name": "stdout",
     "output_type": "stream",
     "text": [
      "Final Score: tensor([0.6521], grad_fn=<SelectBackward0>)\n"
     ]
    },
    {
     "name": "stderr",
     "output_type": "stream",
     "text": [
      "\n"
     ]
    }
   ],
   "source": [
    "scores = []\n",
    "random_losses = []\n",
    "combined_losses = []\n",
    "images_for_gif = []\n",
    "\n",
    "for x in tqdm.tqdm(range(100)):\n",
    "    optimizer.zero_grad()\n",
    "    canvasses = msUIo_wbg()\n",
    "    \n",
    "    generated_image = stack_alpha_aware(canvasses)\n",
    "    # Remove Alpha channel\n",
    "    generated_image = generated_image[:3]\n",
    "\n",
    "    score = appsthetics_predictor[\"model\"](generated_image.unsqueeze(0))\n",
    "    print(f\"Aesthetics Score: {score.detach().item()} (Loss: {1- score.detach().item()})\")\n",
    "\n",
    "    random_classifier_logits = random_predictor(resnet_transform(generated_image.unsqueeze(0)))\n",
    "    random_loss = random_classifier_criterion(random_classifier_logits,random_classifier_target)\n",
    "    print(f\"Random Layout Loss: {random_loss.detach().item()}\")\n",
    "    random_losses.append(random_loss.detach().item())\n",
    "\n",
    "    combined_loss = random_classifier_loss_weight * random_loss + (1-random_classifier_loss_weight) * ((1-score)*10)\n",
    "    combined_losses.append(combined_loss.detach().item())\n",
    "\n",
    "    print(f\"Combined Layout and Aesthetics Loss: {combined_loss.detach().item()}\")\n",
    "\n",
    "    loss = -score\n",
    "    loss.backward()\n",
    "    optimizer.step()\n",
    "    # scheduler.step()\n",
    "\n",
    "    scores.append(score.detach().item())\n",
    "\n",
    "    # Save image as png to create gif\n",
    "    pil_image = transform_t_to_pil(generated_image.detach())\n",
    "    pil_image = pil_image.resize((int(pil_image.size[0]/4),int(pil_image.size[1]/4)), Image.Resampling.LANCZOS)\n",
    "    pil_image.save(f\"output/{x}.png\")\n",
    "    images_for_gif.append(f\"output/{x}.png\")\n",
    "    #pbar.set_description(f\"Score: {score}\")\n",
    "    #pbar.refresh()\n",
    "\n",
    "print(f\"Final Score: {score[-1]}\")"
   ]
  },
  {
   "cell_type": "code",
   "execution_count": 33,
   "id": "01825380-c12d-47b3-b55d-7f64db8bf363",
   "metadata": {},
   "outputs": [
    {
     "data": {
      "image/png": "[encoded data removed]",
      "text/plain": [
       "<Figure size 640x480 with 1 Axes>"
      ]
     },
     "metadata": {},
     "output_type": "display_data"
    }
   ],
   "source": [
    "plt.plot(scores)\n",
    "plt.show()"
   ]
  },
  {
   "cell_type": "code",
   "execution_count": 34,
   "id": "d826d0e0-ad63-416f-b53d-9decca4afb94",
   "metadata": {},
   "outputs": [
    {
     "data": {
      "image/png": "[encoded data removed]",
      "text/plain": [
       "<Figure size 640x480 with 1 Axes>"
      ]
     },
     "metadata": {},
     "output_type": "display_data"
    }
   ],
   "source": [
    "plt.plot(random_losses)\n",
    "plt.show()"
   ]
  },
  {
   "cell_type": "code",
   "execution_count": 32,
   "id": "50bc57e5-ee11-4b9d-8d82-dff5af757800",
   "metadata": {},
   "outputs": [
    {
     "data": {
      "image/png": "[encoded data removed]",
      "text/plain": [
       "<Figure size 640x480 with 1 Axes>"
      ]
     },
     "metadata": {},
     "output_type": "display_data"
    }
   ],
   "source": [
    "plt.plot(combined_losses)\n",
    "plt.show()"
   ]
  },
  {
   "cell_type": "code",
   "execution_count": null,
   "id": "fe763b13-bbc4-4326-8a2c-ad941f6b6c36",
   "metadata": {},
   "outputs": [],
   "source": [
    "# Create gif from steps\n",
    "import imageio\n",
    "\n",
    "images = []\n",
    "for filename in images_for_gif:\n",
    "    images.append(imageio.imread(filename))\n",
    "\n",
    "gif_filename = f\"./progress_{datetime.now().isoformat(timespec='minutes')}.gif\"\n",
    "imageio.mimsave(gif_filename, images, loop=65535)\n",
    "\n",
    "import base64\n",
    "from IPython.core.display import display, HTML\n",
    "\n",
    "b64 = base64.b64encode(open(gif_filename,'rb').read()).decode('ascii')\n",
    "display(HTML(f'<img src=\"data:image/gif;base64,{b64}\" />'))"
   ]
  },
  {
   "cell_type": "markdown",
   "id": "11e5f7a5-2a3b-4ddc-842d-161ef089f96c",
   "metadata": {},
   "source": [
    "It seems like we need a loss to penalise the optimiser pushing the elements out of the canvas."
   ]
  },
  {
   "cell_type": "code",
   "execution_count": null,
   "id": "e510ee03-06d9-4552-b25d-5ef641a3ae0c",
   "metadata": {},
   "outputs": [],
   "source": [
    "msUIo_wbg.coordinates"
   ]
  },
  {
   "cell_type": "code",
   "execution_count": null,
   "id": "b43bffcc-a2df-4725-8c31-0fb34c80f41d",
   "metadata": {},
   "outputs": [],
   "source": []
  }
 ],
 "metadata": {
  "kernelspec": {
   "display_name": "Python 3 (ipykernel)",
   "language": "python",
   "name": "python3"
  },
  "language_info": {
   "codemirror_mode": {
    "name": "ipython",
    "version": 3
   },
   "file_extension": ".py",
   "mimetype": "text/x-python",
   "name": "python",
   "nbconvert_exporter": "python",
   "pygments_lexer": "ipython3",
   "version": "3.11.9"
  }
 },
 "nbformat": 4,
 "nbformat_minor": 5
}
