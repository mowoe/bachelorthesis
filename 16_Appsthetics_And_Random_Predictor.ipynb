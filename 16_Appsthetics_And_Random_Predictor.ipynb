{
 "cells": [
  {
   "cell_type": "markdown",
   "id": "5f4bd429-ec57-444f-aec7-3c56271b42ce",
   "metadata": {},
   "source": [
    "This notebook is basically a copy of notebook 12, but with combining the loss with our \"Random Layout\" Predictor"
   ]
  },
  {
   "cell_type": "code",
   "execution_count": 1,
   "id": "179392e3-84f7-46ab-b642-c6de05dfcc74",
   "metadata": {},
   "outputs": [],
   "source": [
    "import torch\n",
    "import numpy as np\n",
    "import matplotlib.pyplot as plt\n",
    "from torchvision import datasets, transforms\n",
    "import torch.nn.functional as F\n",
    "import torchvision.transforms as T\n",
    "\n",
    "from PIL import Image\n",
    "import json\n",
    "from math import prod\n",
    "from huggingface_hub import hf_hub_download\n",
    "import tqdm\n",
    "transform_t_to_pil = T.ToPILImage()\n",
    "transform_to_t = transforms.Compose([transforms.ToTensor()])\n",
    "import utils\n",
    "from utils import get_all_bounding_boxes, segment, calculate_initial_theta, stack_alpha_aware, AestheticPredictor, get_random_initial_position\n",
    "# from lion_pytorch import Lion\n",
    "from datetime import datetime\n",
    "import random\n",
    "from huggingface_hub import hf_hub_download\n",
    "import timm\n",
    "import torch.nn as nn"
   ]
  },
  {
   "cell_type": "code",
   "execution_count": 2,
   "id": "899aca82-644a-4c70-a3d0-71a896996c70",
   "metadata": {},
   "outputs": [],
   "source": [
    "# Transformations\n",
    "resnet_transform = transforms.Compose([\n",
    "    transforms.Resize((224, 224)),\n",
    "    transforms.Normalize(mean=[0.485, 0.456, 0.406], std=[0.229, 0.224, 0.225]),\n",
    "])"
   ]
  },
  {
   "cell_type": "code",
   "execution_count": 3,
   "id": "3b70e8c2-62bf-4ede-9075-f818c97d5acd",
   "metadata": {},
   "outputs": [],
   "source": [
    "device = \"cpu\""
   ]
  },
  {
   "cell_type": "code",
   "execution_count": 4,
   "id": "b6c8e594-c4b2-45a4-a1ee-ff01669f241b",
   "metadata": {},
   "outputs": [
    {
     "data": {
      "text/plain": [
       "<All keys matched successfully>"
      ]
     },
     "execution_count": 4,
     "metadata": {},
     "output_type": "execute_result"
    }
   ],
   "source": [
    "# Load pre-trained ResNet model\n",
    "random_predictor = timm.create_model('resnet50', pretrained=True)\n",
    "random_predictor.fc = nn.Linear(random_predictor.fc.in_features, 2)  # Modify the classifier to output 2 classes\n",
    "random_predictor.to(device)\n",
    "\n",
    "local_filename = hf_hub_download(repo_id=\"mowoe/random-layout-classifier\", filename=\"random-layout-classifier.pt\")\n",
    "random_predictor.load_state_dict(torch.load(local_filename, map_location=\"cpu\"))"
   ]
  },
  {
   "cell_type": "code",
   "execution_count": 5,
   "id": "6157b4c2-cc23-4282-8953-f377dbeb42a8",
   "metadata": {},
   "outputs": [],
   "source": [
    "im = Image.open('../combined/5373.jpg')\n",
    "im = im.convert('RGBA')\n",
    "im = im.resize((1440, 2560), Image.Resampling.LANCZOS)\n",
    "\n",
    "\n",
    "with open('../combined/5373.json', \"r\") as f:\n",
    "    image_json = json.load(f)\n",
    "\n",
    "reduced_segments = [s for s in segment(im,image_json) if (prod(s[0].size) < 0.80*prod(im.size)) and (prod(s[0].size)>1)]"
   ]
  },
  {
   "cell_type": "code",
   "execution_count": 6,
   "id": "6dbd5669-5630-4fd8-a833-7231c9127377",
   "metadata": {},
   "outputs": [],
   "source": [
    "def get_all_bounding_boxes(item):\n",
    "    all_boxes = []\n",
    "    if \"bounds\" in item.keys() and \"resource-id\" in item.keys():\n",
    "        all_boxes.append((item[\"bounds\"],item[\"resource-id\"]))\n",
    "    if \"children\" in item.keys():\n",
    "        for child in item[\"children\"]:\n",
    "            for box in get_all_bounding_boxes(child):\n",
    "                all_boxes.append(box)\n",
    "    return all_boxes"
   ]
  },
  {
   "cell_type": "code",
   "execution_count": 7,
   "id": "43b579b9-d9ce-4b5c-bc27-69571e9708a3",
   "metadata": {},
   "outputs": [],
   "source": [
    "class MultiSegmentUIOptimizerWithBackgroundParam(torch.nn.Module):\n",
    "    def __init__(self,segments_and_positions: list, original_image_size: tuple):\n",
    "        super().__init__()\n",
    "        self.original_image_size = original_image_size\n",
    "        self.segments_and_positions = segments_and_positions\n",
    "        self.canvas_size = (1,3,original_image_size[1],original_image_size[0])\n",
    "        print(f\"Canvas size is {self.canvas_size}\")\n",
    "\n",
    "        initial_vector = []\n",
    "        for segment,position in segments_and_positions:\n",
    "            # initial_theta = calculate_initial_theta(segment,original_image_size,position)\n",
    "            initial_theta = get_random_initial_position(segment,original_image_size,position)\n",
    "            initial_vector.append([initial_theta[0][2],initial_theta[1][2]])\n",
    "\n",
    "        self.coordinates = torch.nn.Parameter(torch.tensor(initial_vector))\n",
    "        print(self.coordinates)\n",
    "        self.background_color = torch.nn.Parameter(torch.tensor(np.array([1.0,1.0,1.0]),dtype=torch.float))\n",
    "        \n",
    "\n",
    "    def forward(self):\n",
    "        segments_on_canvas = []\n",
    "\n",
    "        # Create background image from parameter\n",
    "        bg_col = torch.clamp(self.background_color, min=0, max=1)\n",
    "        #print(f\"Clamped bg to {bg_col}\")\n",
    "        red = torch.tile(bg_col[0],self.original_image_size[::-1])\n",
    "        green = torch.tile(bg_col[1],self.original_image_size[::-1])\n",
    "        blue = torch.tile(bg_col[2],self.original_image_size[::-1])\n",
    "        alpha = torch.tile(torch.tensor(1.0),self.original_image_size[::-1])\n",
    "        background = torch.stack([red,green,blue,alpha]).unsqueeze(0)\n",
    "        #print(background.detach().sum())\n",
    "        #background = torch.tile(self.background_color,self.original_image_size)\n",
    "        \n",
    "        segments_on_canvas.append(background)\n",
    "        \n",
    "        for n in range(len(self.segments_and_positions)):\n",
    "            # We need to calculate the proper ratios, to artificially warp the segment on to a bigger canvas without distorting it (see notebook 01)\n",
    "            x_ratio = self.original_image_size[0] / self.segments_and_positions[n][0].size[0]\n",
    "            y_ratio = self.original_image_size[1] / self.segments_and_positions[n][0].size[1]\n",
    "            \n",
    "            # Affine matrix\n",
    "            theta = [\n",
    "                [x_ratio, 0.0    , 0.0],\n",
    "                [0.0    , y_ratio, 0.0]\n",
    "            ]\n",
    "            theta_tensor = torch.as_tensor(theta)[None]\n",
    "\n",
    "            theta_tensor[0][0][2]+=self.coordinates[n][0]\n",
    "            theta_tensor[0][1][2]+=self.coordinates[n][1]\n",
    "            \n",
    "            # Generate flow field\n",
    "            grid = F.affine_grid(theta_tensor, self.canvas_size).type(torch.FloatTensor)\n",
    "            x = F.grid_sample(transform_to_t(self.segments_and_positions[n][0]).unsqueeze(0), grid)\n",
    "            segments_on_canvas.append(x)\n",
    "\n",
    "\n",
    "\n",
    "        return segments_on_canvas"
   ]
  },
  {
   "cell_type": "code",
   "execution_count": 8,
   "id": "456e0cb6-92ab-464f-832d-7d817eab9c60",
   "metadata": {},
   "outputs": [
    {
     "name": "stdout",
     "output_type": "stream",
     "text": [
      "Canvas size is (1, 3, 2560, 1440)\n",
      "Parameter containing:\n",
      "tensor([[ -6.2446,   0.5597],\n",
      "        [  0.3235,   0.2849],\n",
      "        [ -0.3852,  -2.4763],\n",
      "        [  1.2702,  27.4931],\n",
      "        [  1.7642,   8.5428],\n",
      "        [  0.0000, -11.5621],\n",
      "        [  0.0000, -23.4594]], dtype=torch.float64, requires_grad=True)\n"
     ]
    }
   ],
   "source": [
    "msUIo_wbg = MultiSegmentUIOptimizerWithBackgroundParam(reduced_segments, im.size)"
   ]
  },
  {
   "cell_type": "code",
   "execution_count": 9,
   "id": "1c124360-9f73-41ad-9b22-72ec4ac0a0e4",
   "metadata": {},
   "outputs": [
    {
     "name": "stderr",
     "output_type": "stream",
     "text": [
      "/opt/conda/lib/python3.11/site-packages/torch/nn/functional.py:4404: UserWarning: Default grid_sample and affine_grid behavior has changed to align_corners=False since 1.3.0. Please specify align_corners=True if the old behavior is desired. See the documentation of grid_sample for details.\n",
      "  warnings.warn(\n",
      "/opt/conda/lib/python3.11/site-packages/torch/nn/functional.py:4343: UserWarning: Default grid_sample and affine_grid behavior has changed to align_corners=False since 1.3.0. Please specify align_corners=True if the old behavior is desired. See the documentation of grid_sample for details.\n",
      "  warnings.warn(\n"
     ]
    },
    {
     "data": {
      "image/png": "[encoded data removed]",
      "text/plain": [
       "<Figure size 640x480 with 1 Axes>"
      ]
     },
     "metadata": {},
     "output_type": "display_data"
    }
   ],
   "source": [
    "canvasses = msUIo_wbg()\n",
    "\n",
    "\n",
    "generated_image = stack_alpha_aware(canvasses)\n",
    "# Remove Alpha channel\n",
    "generated_image = generated_image[:3]\n",
    "\n",
    "plt.imshow(generated_image.detach().permute(1, 2, 0))\n",
    "\n",
    "plt.axis('off')\n",
    "plt.show()"
   ]
  },
  {
   "cell_type": "code",
   "execution_count": 10,
   "id": "c61f6bcc-014b-40df-9c82-6b56430a042b",
   "metadata": {},
   "outputs": [],
   "source": [
    "appsthetics_predictor = torch.load(\"../Dataset_estetica/Regressao//model123\")"
   ]
  },
  {
   "cell_type": "code",
   "execution_count": 11,
   "id": "d1735c7b-8a18-41e4-93f2-1b5c6f581fa2",
   "metadata": {},
   "outputs": [],
   "source": [
    "optimizer = torch.optim.AdamW(msUIo_wbg.parameters(), lr=0.1)"
   ]
  },
  {
   "cell_type": "code",
   "execution_count": 12,
   "id": "03308973-581d-45f1-98fa-a19f89df099f",
   "metadata": {},
   "outputs": [],
   "source": [
    "random_classifier_criterion = nn.CrossEntropyLoss()"
   ]
  },
  {
   "cell_type": "code",
   "execution_count": 13,
   "id": "1897e880-cbe8-4f76-8a19-2482a9541614",
   "metadata": {},
   "outputs": [],
   "source": [
    "random_classifier_loss_weight = 0.7\n",
    "random_classifier_target = torch.Tensor([1.0]).to(torch.long)"
   ]
  },
  {
   "cell_type": "code",
   "execution_count": null,
   "id": "0d7d098e-32ab-4a47-9684-e06a4f650f18",
   "metadata": {},
   "outputs": [
    {
     "name": "stderr",
     "output_type": "stream",
     "text": [
      "  0%|          | 0/1000 [00:00<?, ?it/s]/opt/conda/lib/python3.11/site-packages/torch/nn/functional.py:4404: UserWarning: Default grid_sample and affine_grid behavior has changed to align_corners=False since 1.3.0. Please specify align_corners=True if the old behavior is desired. See the documentation of grid_sample for details.\n",
      "  warnings.warn(\n",
      "/opt/conda/lib/python3.11/site-packages/torch/nn/functional.py:4343: UserWarning: Default grid_sample and affine_grid behavior has changed to align_corners=False since 1.3.0. Please specify align_corners=True if the old behavior is desired. See the documentation of grid_sample for details.\n",
      "  warnings.warn(\n"
     ]
    },
    {
     "name": "stdout",
     "output_type": "stream",
     "text": [
      "Aesthetics Score: 0.6016340851783752 (Loss: 0.39836591482162476)\n",
      "Random Layout Loss: 3.581174850463867\n",
      "Combined Layout and Aesthetics Loss: 2.6263320446014404\n"
     ]
    },
    {
     "name": "stderr",
     "output_type": "stream",
     "text": [
      "  0%|          | 1/1000 [00:09<2:39:48,  9.60s/it]"
     ]
    },
    {
     "name": "stdout",
     "output_type": "stream",
     "text": [
      "Aesthetics Score: 0.6009206771850586 (Loss: 0.3990793228149414)\n",
      "Random Layout Loss: 3.6323633193969727\n",
      "Combined Layout and Aesthetics Loss: 2.6623780727386475\n"
     ]
    },
    {
     "name": "stderr",
     "output_type": "stream",
     "text": [
      "  0%|          | 2/1000 [00:17<2:21:15,  8.49s/it]"
     ]
    },
    {
     "name": "stdout",
     "output_type": "stream",
     "text": [
      "Aesthetics Score: 0.5949084758758545 (Loss: 0.4050915241241455)\n",
      "Random Layout Loss: 3.0320844650268555\n",
      "Combined Layout and Aesthetics Loss: 2.2439866065979004\n"
     ]
    },
    {
     "name": "stderr",
     "output_type": "stream",
     "text": [
      "  0%|          | 3/1000 [00:25<2:21:04,  8.49s/it]"
     ]
    },
    {
     "name": "stdout",
     "output_type": "stream",
     "text": [
      "Aesthetics Score: 0.4900328516960144 (Loss: 0.5099671483039856)\n",
      "Random Layout Loss: 3.329530954360962\n",
      "Combined Layout and Aesthetics Loss: 2.483661651611328\n"
     ]
    },
    {
     "name": "stderr",
     "output_type": "stream",
     "text": [
      "  0%|          | 4/1000 [00:33<2:17:08,  8.26s/it]"
     ]
    },
    {
     "name": "stdout",
     "output_type": "stream",
     "text": [
      "Aesthetics Score: 0.4878913164138794 (Loss: 0.5121086835861206)\n",
      "Random Layout Loss: 3.501333475112915\n",
      "Combined Layout and Aesthetics Loss: 2.6045660972595215\n"
     ]
    },
    {
     "name": "stderr",
     "output_type": "stream",
     "text": [
      "  0%|          | 5/1000 [00:41<2:13:35,  8.06s/it]"
     ]
    },
    {
     "name": "stdout",
     "output_type": "stream",
     "text": [
      "Aesthetics Score: 0.5779858827590942 (Loss: 0.42201411724090576)\n",
      "Random Layout Loss: 3.666487693786621\n",
      "Combined Layout and Aesthetics Loss: 2.693145751953125\n"
     ]
    },
    {
     "name": "stderr",
     "output_type": "stream",
     "text": [
      "  1%|          | 6/1000 [00:48<2:09:27,  7.81s/it]"
     ]
    },
    {
     "name": "stdout",
     "output_type": "stream",
     "text": [
      "Aesthetics Score: 0.5276914834976196 (Loss: 0.47230851650238037)\n",
      "Random Layout Loss: 3.52720046043396\n",
      "Combined Layout and Aesthetics Loss: 2.6107330322265625\n"
     ]
    },
    {
     "name": "stderr",
     "output_type": "stream",
     "text": [
      "  1%|          | 7/1000 [00:56<2:07:09,  7.68s/it]"
     ]
    },
    {
     "name": "stdout",
     "output_type": "stream",
     "text": [
      "Aesthetics Score: 0.5318170189857483 (Loss: 0.4681829810142517)\n",
      "Random Layout Loss: 3.0345726013183594\n",
      "Combined Layout and Aesthetics Loss: 2.264655828475952\n"
     ]
    },
    {
     "name": "stderr",
     "output_type": "stream",
     "text": [
      "  1%|          | 8/1000 [01:03<2:04:44,  7.54s/it]"
     ]
    },
    {
     "name": "stdout",
     "output_type": "stream",
     "text": [
      "Aesthetics Score: 0.5539804697036743 (Loss: 0.4460195302963257)\n",
      "Random Layout Loss: 2.581747531890869\n",
      "Combined Layout and Aesthetics Loss: 1.9410290718078613\n"
     ]
    },
    {
     "name": "stderr",
     "output_type": "stream",
     "text": [
      "  1%|          | 9/1000 [01:10<2:03:24,  7.47s/it]"
     ]
    },
    {
     "name": "stdout",
     "output_type": "stream",
     "text": [
      "Aesthetics Score: 0.5586841106414795 (Loss: 0.4413158893585205)\n",
      "Random Layout Loss: 2.915565252304077\n",
      "Combined Layout and Aesthetics Loss: 2.173290491104126\n"
     ]
    },
    {
     "name": "stderr",
     "output_type": "stream",
     "text": [
      "  1%|          | 10/1000 [01:17<1:59:24,  7.24s/it]"
     ]
    },
    {
     "name": "stdout",
     "output_type": "stream",
     "text": [
      "Aesthetics Score: 0.5667179226875305 (Loss: 0.4332820773124695)\n",
      "Random Layout Loss: 2.3557181358337402\n",
      "Combined Layout and Aesthetics Loss: 1.7789872884750366\n"
     ]
    },
    {
     "name": "stderr",
     "output_type": "stream",
     "text": [
      "  1%|          | 11/1000 [01:24<1:56:28,  7.07s/it]"
     ]
    },
    {
     "name": "stdout",
     "output_type": "stream",
     "text": [
      "Aesthetics Score: 0.6061891913414001 (Loss: 0.39381080865859985)\n",
      "Random Layout Loss: 3.722154140472412\n",
      "Combined Layout and Aesthetics Loss: 2.723651170730591\n"
     ]
    },
    {
     "name": "stderr",
     "output_type": "stream",
     "text": [
      "  1%|          | 12/1000 [01:30<1:54:50,  6.97s/it]"
     ]
    },
    {
     "name": "stdout",
     "output_type": "stream",
     "text": [
      "Aesthetics Score: 0.5758166909217834 (Loss: 0.42418330907821655)\n",
      "Random Layout Loss: 3.5910308361053467\n",
      "Combined Layout and Aesthetics Loss: 2.6409764289855957\n"
     ]
    },
    {
     "name": "stderr",
     "output_type": "stream",
     "text": [
      "  1%|▏         | 13/1000 [01:37<1:54:21,  6.95s/it]"
     ]
    },
    {
     "name": "stdout",
     "output_type": "stream",
     "text": [
      "Aesthetics Score: 0.5202963948249817 (Loss: 0.4797036051750183)\n",
      "Random Layout Loss: 2.8740527629852295\n",
      "Combined Layout and Aesthetics Loss: 2.155748128890991\n"
     ]
    },
    {
     "name": "stderr",
     "output_type": "stream",
     "text": [
      "  1%|▏         | 14/1000 [01:44<1:54:15,  6.95s/it]"
     ]
    },
    {
     "name": "stdout",
     "output_type": "stream",
     "text": [
      "Aesthetics Score: 0.5551280975341797 (Loss: 0.4448719024658203)\n",
      "Random Layout Loss: 3.114952325820923\n",
      "Combined Layout and Aesthetics Loss: 2.3139281272888184\n"
     ]
    },
    {
     "name": "stderr",
     "output_type": "stream",
     "text": [
      "  2%|▏         | 15/1000 [01:51<1:54:36,  6.98s/it]"
     ]
    },
    {
     "name": "stdout",
     "output_type": "stream",
     "text": [
      "Aesthetics Score: 0.6232478618621826 (Loss: 0.3767521381378174)\n",
      "Random Layout Loss: 3.358609914779663\n",
      "Combined Layout and Aesthetics Loss: 2.464052677154541\n"
     ]
    },
    {
     "name": "stderr",
     "output_type": "stream",
     "text": [
      "  2%|▏         | 16/1000 [01:58<1:53:54,  6.95s/it]"
     ]
    },
    {
     "name": "stdout",
     "output_type": "stream",
     "text": [
      "Aesthetics Score: 0.5939460396766663 (Loss: 0.40605396032333374)\n",
      "Random Layout Loss: 3.427553653717041\n",
      "Combined Layout and Aesthetics Loss: 2.521103620529175\n"
     ]
    },
    {
     "name": "stderr",
     "output_type": "stream",
     "text": [
      "  2%|▏         | 17/1000 [02:05<1:55:12,  7.03s/it]"
     ]
    },
    {
     "name": "stdout",
     "output_type": "stream",
     "text": [
      "Aesthetics Score: 0.638287365436554 (Loss: 0.36171263456344604)\n",
      "Random Layout Loss: 3.632274627685547\n",
      "Combined Layout and Aesthetics Loss: 2.651106119155884\n"
     ]
    },
    {
     "name": "stderr",
     "output_type": "stream",
     "text": [
      "  2%|▏         | 18/1000 [02:13<1:57:37,  7.19s/it]"
     ]
    },
    {
     "name": "stdout",
     "output_type": "stream",
     "text": [
      "Aesthetics Score: 0.580834150314331 (Loss: 0.41916584968566895)\n",
      "Random Layout Loss: 3.5122053623199463\n",
      "Combined Layout and Aesthetics Loss: 2.5842936038970947\n"
     ]
    },
    {
     "name": "stderr",
     "output_type": "stream",
     "text": [
      "  2%|▏         | 19/1000 [02:20<1:57:05,  7.16s/it]"
     ]
    },
    {
     "name": "stdout",
     "output_type": "stream",
     "text": [
      "Aesthetics Score: 0.598147988319397 (Loss: 0.401852011680603)\n",
      "Random Layout Loss: 3.2607996463775635\n",
      "Combined Layout and Aesthetics Loss: 2.4031152725219727\n"
     ]
    },
    {
     "name": "stderr",
     "output_type": "stream",
     "text": [
      "  2%|▏         | 20/1000 [02:27<1:56:05,  7.11s/it]"
     ]
    },
    {
     "name": "stdout",
     "output_type": "stream",
     "text": [
      "Aesthetics Score: 0.6000429391860962 (Loss: 0.3999570608139038)\n",
      "Random Layout Loss: 3.027582883834839\n",
      "Combined Layout and Aesthetics Loss: 2.23929500579834\n"
     ]
    },
    {
     "name": "stderr",
     "output_type": "stream",
     "text": [
      "  2%|▏         | 21/1000 [02:34<1:55:20,  7.07s/it]"
     ]
    },
    {
     "name": "stdout",
     "output_type": "stream",
     "text": [
      "Aesthetics Score: 0.6156602501869202 (Loss: 0.38433974981307983)\n",
      "Random Layout Loss: 4.132167816162109\n",
      "Combined Layout and Aesthetics Loss: 3.007819175720215\n"
     ]
    },
    {
     "name": "stderr",
     "output_type": "stream",
     "text": [
      "  2%|▏         | 22/1000 [02:41<1:54:11,  7.01s/it]"
     ]
    },
    {
     "name": "stdout",
     "output_type": "stream",
     "text": [
      "Aesthetics Score: 0.5663506984710693 (Loss: 0.43364930152893066)\n",
      "Random Layout Loss: 3.0194742679595947\n",
      "Combined Layout and Aesthetics Loss: 2.2437267303466797\n"
     ]
    },
    {
     "name": "stderr",
     "output_type": "stream",
     "text": [
      "  2%|▏         | 23/1000 [02:47<1:51:43,  6.86s/it]"
     ]
    },
    {
     "name": "stdout",
     "output_type": "stream",
     "text": [
      "Aesthetics Score: 0.5521169900894165 (Loss: 0.4478830099105835)\n",
      "Random Layout Loss: 2.9128637313842773\n",
      "Combined Layout and Aesthetics Loss: 2.1733694076538086\n"
     ]
    },
    {
     "name": "stderr",
     "output_type": "stream",
     "text": [
      "  2%|▏         | 24/1000 [02:54<1:51:52,  6.88s/it]"
     ]
    },
    {
     "name": "stdout",
     "output_type": "stream",
     "text": [
      "Aesthetics Score: 0.6128668785095215 (Loss: 0.3871331214904785)\n",
      "Random Layout Loss: 3.4780406951904297\n",
      "Combined Layout and Aesthetics Loss: 2.5507683753967285\n"
     ]
    },
    {
     "name": "stderr",
     "output_type": "stream",
     "text": [
      "  2%|▎         | 25/1000 [03:01<1:52:59,  6.95s/it]"
     ]
    },
    {
     "name": "stdout",
     "output_type": "stream",
     "text": [
      "Aesthetics Score: 0.5690774321556091 (Loss: 0.43092256784439087)\n",
      "Random Layout Loss: 3.5849294662475586\n",
      "Combined Layout and Aesthetics Loss: 2.6387274265289307\n"
     ]
    },
    {
     "name": "stderr",
     "output_type": "stream",
     "text": [
      "  3%|▎         | 26/1000 [03:08<1:51:54,  6.89s/it]"
     ]
    },
    {
     "name": "stdout",
     "output_type": "stream",
     "text": [
      "Aesthetics Score: 0.5654674768447876 (Loss: 0.4345325231552124)\n",
      "Random Layout Loss: 3.281555414199829\n",
      "Combined Layout and Aesthetics Loss: 2.4274487495422363\n"
     ]
    },
    {
     "name": "stderr",
     "output_type": "stream",
     "text": [
      "  3%|▎         | 27/1000 [03:15<1:51:05,  6.85s/it]"
     ]
    },
    {
     "name": "stdout",
     "output_type": "stream",
     "text": [
      "Aesthetics Score: 0.5768234133720398 (Loss: 0.4231765866279602)\n",
      "Random Layout Loss: 3.9979937076568604\n",
      "Combined Layout and Aesthetics Loss: 2.925548553466797\n"
     ]
    },
    {
     "name": "stderr",
     "output_type": "stream",
     "text": [
      "  3%|▎         | 28/1000 [03:21<1:48:42,  6.71s/it]"
     ]
    },
    {
     "name": "stdout",
     "output_type": "stream",
     "text": [
      "Aesthetics Score: 0.5737861394882202 (Loss: 0.4262138605117798)\n",
      "Random Layout Loss: 3.634592294692993\n",
      "Combined Layout and Aesthetics Loss: 2.6720786094665527\n"
     ]
    },
    {
     "name": "stderr",
     "output_type": "stream",
     "text": [
      "  3%|▎         | 29/1000 [03:28<1:46:41,  6.59s/it]"
     ]
    },
    {
     "name": "stdout",
     "output_type": "stream",
     "text": [
      "Aesthetics Score: 0.6060745716094971 (Loss: 0.39392542839050293)\n",
      "Random Layout Loss: 3.2940573692321777\n",
      "Combined Layout and Aesthetics Loss: 2.4240176677703857\n"
     ]
    },
    {
     "name": "stderr",
     "output_type": "stream",
     "text": [
      "  3%|▎         | 30/1000 [03:34<1:47:03,  6.62s/it]"
     ]
    },
    {
     "name": "stdout",
     "output_type": "stream",
     "text": [
      "Aesthetics Score: 0.6168786287307739 (Loss: 0.3831213712692261)\n",
      "Random Layout Loss: 3.297271490097046\n",
      "Combined Layout and Aesthetics Loss: 2.4230263233184814\n"
     ]
    },
    {
     "name": "stderr",
     "output_type": "stream",
     "text": [
      "  3%|▎         | 31/1000 [03:41<1:46:26,  6.59s/it]"
     ]
    },
    {
     "name": "stdout",
     "output_type": "stream",
     "text": [
      "Aesthetics Score: 0.6319061517715454 (Loss: 0.3680938482284546)\n",
      "Random Layout Loss: 2.7350234985351562\n",
      "Combined Layout and Aesthetics Loss: 2.024944543838501\n"
     ]
    },
    {
     "name": "stderr",
     "output_type": "stream",
     "text": [
      "  3%|▎         | 32/1000 [03:47<1:46:05,  6.58s/it]"
     ]
    },
    {
     "name": "stdout",
     "output_type": "stream",
     "text": [
      "Aesthetics Score: 0.5953508615493774 (Loss: 0.40464913845062256)\n",
      "Random Layout Loss: 2.581610679626465\n",
      "Combined Layout and Aesthetics Loss: 1.9285222291946411\n"
     ]
    },
    {
     "name": "stderr",
     "output_type": "stream",
     "text": [
      "  3%|▎         | 33/1000 [03:54<1:45:44,  6.56s/it]"
     ]
    },
    {
     "name": "stdout",
     "output_type": "stream",
     "text": [
      "Aesthetics Score: 0.6105397343635559 (Loss: 0.3894602656364441)\n",
      "Random Layout Loss: 3.8708391189575195\n",
      "Combined Layout and Aesthetics Loss: 2.826425313949585\n"
     ]
    },
    {
     "name": "stderr",
     "output_type": "stream",
     "text": [
      "  3%|▎         | 34/1000 [04:00<1:45:24,  6.55s/it]"
     ]
    },
    {
     "name": "stdout",
     "output_type": "stream",
     "text": [
      "Aesthetics Score: 0.5650537610054016 (Loss: 0.4349462389945984)\n",
      "Random Layout Loss: 3.482773542404175\n",
      "Combined Layout and Aesthetics Loss: 2.568425416946411\n"
     ]
    },
    {
     "name": "stderr",
     "output_type": "stream",
     "text": [
      "  4%|▎         | 35/1000 [04:07<1:46:11,  6.60s/it]"
     ]
    },
    {
     "name": "stdout",
     "output_type": "stream",
     "text": [
      "Aesthetics Score: 0.5589238405227661 (Loss: 0.4410761594772339)\n",
      "Random Layout Loss: 3.0945935249328613\n",
      "Combined Layout and Aesthetics Loss: 2.2985382080078125\n"
     ]
    },
    {
     "name": "stderr",
     "output_type": "stream",
     "text": [
      "  4%|▎         | 36/1000 [04:14<1:45:36,  6.57s/it]"
     ]
    },
    {
     "name": "stdout",
     "output_type": "stream",
     "text": [
      "Aesthetics Score: 0.5898662805557251 (Loss: 0.4101337194442749)\n",
      "Random Layout Loss: 3.7330989837646484\n",
      "Combined Layout and Aesthetics Loss: 2.7362093925476074\n"
     ]
    },
    {
     "name": "stderr",
     "output_type": "stream",
     "text": [
      "  4%|▎         | 37/1000 [04:20<1:45:01,  6.54s/it]"
     ]
    },
    {
     "name": "stdout",
     "output_type": "stream",
     "text": [
      "Aesthetics Score: 0.5743401050567627 (Loss: 0.4256598949432373)\n",
      "Random Layout Loss: 3.7294108867645264\n",
      "Combined Layout and Aesthetics Loss: 2.738285541534424\n"
     ]
    },
    {
     "name": "stderr",
     "output_type": "stream",
     "text": [
      "  4%|▍         | 38/1000 [04:27<1:44:39,  6.53s/it]"
     ]
    },
    {
     "name": "stdout",
     "output_type": "stream",
     "text": [
      "Aesthetics Score: 0.6233937740325928 (Loss: 0.3766062259674072)\n",
      "Random Layout Loss: 3.7780537605285645\n",
      "Combined Layout and Aesthetics Loss: 2.7576193809509277\n"
     ]
    },
    {
     "name": "stderr",
     "output_type": "stream",
     "text": [
      "  4%|▍         | 39/1000 [04:33<1:43:54,  6.49s/it]"
     ]
    },
    {
     "name": "stdout",
     "output_type": "stream",
     "text": [
      "Aesthetics Score: 0.620378851890564 (Loss: 0.37962114810943604)\n",
      "Random Layout Loss: 3.754633665084839\n",
      "Combined Layout and Aesthetics Loss: 2.7421298027038574\n"
     ]
    },
    {
     "name": "stderr",
     "output_type": "stream",
     "text": [
      "  4%|▍         | 40/1000 [04:40<1:43:53,  6.49s/it]"
     ]
    },
    {
     "name": "stdout",
     "output_type": "stream",
     "text": [
      "Aesthetics Score: 0.578726053237915 (Loss: 0.42127394676208496)\n",
      "Random Layout Loss: 3.7163472175598145\n",
      "Combined Layout and Aesthetics Loss: 2.727825164794922\n"
     ]
    },
    {
     "name": "stderr",
     "output_type": "stream",
     "text": [
      "  4%|▍         | 41/1000 [04:46<1:43:21,  6.47s/it]"
     ]
    },
    {
     "name": "stdout",
     "output_type": "stream",
     "text": [
      "Aesthetics Score: 0.6039543747901917 (Loss: 0.39604562520980835)\n",
      "Random Layout Loss: 3.583829164505005\n",
      "Combined Layout and Aesthetics Loss: 2.6274940967559814\n"
     ]
    },
    {
     "name": "stderr",
     "output_type": "stream",
     "text": [
      "  4%|▍         | 42/1000 [04:53<1:47:10,  6.71s/it]"
     ]
    },
    {
     "name": "stdout",
     "output_type": "stream",
     "text": [
      "Aesthetics Score: 0.5600000023841858 (Loss: 0.4399999976158142)\n",
      "Random Layout Loss: 3.8124120235443115\n",
      "Combined Layout and Aesthetics Loss: 2.8006882667541504\n"
     ]
    },
    {
     "name": "stderr",
     "output_type": "stream",
     "text": [
      "  4%|▍         | 43/1000 [05:00<1:46:06,  6.65s/it]"
     ]
    },
    {
     "name": "stdout",
     "output_type": "stream",
     "text": [
      "Aesthetics Score: 0.6234176754951477 (Loss: 0.3765823245048523)\n",
      "Random Layout Loss: 3.1372005939483643\n",
      "Combined Layout and Aesthetics Loss: 2.3090150356292725\n"
     ]
    },
    {
     "name": "stderr",
     "output_type": "stream",
     "text": [
      "  4%|▍         | 44/1000 [05:06<1:45:26,  6.62s/it]"
     ]
    },
    {
     "name": "stdout",
     "output_type": "stream",
     "text": [
      "Aesthetics Score: 0.6118576526641846 (Loss: 0.38814234733581543)\n",
      "Random Layout Loss: 3.515714168548584\n",
      "Combined Layout and Aesthetics Loss: 2.5774426460266113\n"
     ]
    },
    {
     "name": "stderr",
     "output_type": "stream",
     "text": [
      "  4%|▍         | 45/1000 [05:13<1:44:36,  6.57s/it]"
     ]
    },
    {
     "name": "stdout",
     "output_type": "stream",
     "text": [
      "Aesthetics Score: 0.5933145880699158 (Loss: 0.40668541193008423)\n",
      "Random Layout Loss: 3.3478715419769287\n",
      "Combined Layout and Aesthetics Loss: 2.4655158519744873\n"
     ]
    },
    {
     "name": "stderr",
     "output_type": "stream",
     "text": [
      "  5%|▍         | 46/1000 [05:19<1:44:08,  6.55s/it]"
     ]
    },
    {
     "name": "stdout",
     "output_type": "stream",
     "text": [
      "Aesthetics Score: 0.5838195085525513 (Loss: 0.41618049144744873)\n",
      "Random Layout Loss: 3.5483829975128174\n",
      "Combined Layout and Aesthetics Loss: 2.60872220993042\n"
     ]
    },
    {
     "name": "stderr",
     "output_type": "stream",
     "text": [
      "  5%|▍         | 47/1000 [05:26<1:43:40,  6.53s/it]"
     ]
    },
    {
     "name": "stdout",
     "output_type": "stream",
     "text": [
      "Aesthetics Score: 0.532031238079071 (Loss: 0.46796876192092896)\n",
      "Random Layout Loss: 3.6817030906677246\n",
      "Combined Layout and Aesthetics Loss: 2.7175827026367188\n"
     ]
    },
    {
     "name": "stderr",
     "output_type": "stream",
     "text": [
      "  5%|▍         | 48/1000 [05:33<1:45:24,  6.64s/it]"
     ]
    },
    {
     "name": "stdout",
     "output_type": "stream",
     "text": [
      "Aesthetics Score: 0.620650053024292 (Loss: 0.379349946975708)\n",
      "Random Layout Loss: 3.412724018096924\n",
      "Combined Layout and Aesthetics Loss: 2.502711772918701\n"
     ]
    },
    {
     "name": "stderr",
     "output_type": "stream",
     "text": [
      "  5%|▍         | 49/1000 [05:39<1:45:36,  6.66s/it]"
     ]
    },
    {
     "name": "stdout",
     "output_type": "stream",
     "text": [
      "Aesthetics Score: 0.6380822658538818 (Loss: 0.36191773414611816)\n",
      "Random Layout Loss: 3.622945785522461\n",
      "Combined Layout and Aesthetics Loss: 2.6446373462677\n"
     ]
    },
    {
     "name": "stderr",
     "output_type": "stream",
     "text": [
      "  5%|▌         | 50/1000 [05:46<1:46:18,  6.71s/it]"
     ]
    },
    {
     "name": "stdout",
     "output_type": "stream",
     "text": [
      "Aesthetics Score: 0.6699250936508179 (Loss: 0.33007490634918213)\n",
      "Random Layout Loss: 3.59797739982605\n",
      "Combined Layout and Aesthetics Loss: 2.6176066398620605\n"
     ]
    },
    {
     "name": "stderr",
     "output_type": "stream",
     "text": [
      "  5%|▌         | 51/1000 [05:53<1:46:52,  6.76s/it]"
     ]
    },
    {
     "name": "stdout",
     "output_type": "stream",
     "text": [
      "Aesthetics Score: 0.6085124015808105 (Loss: 0.39148759841918945)\n",
      "Random Layout Loss: 3.278292179107666\n",
      "Combined Layout and Aesthetics Loss: 2.4122507572174072\n"
     ]
    }
   ],
   "source": [
    "scores = []\n",
    "random_losses = []\n",
    "combined_losses = []\n",
    "images_for_gif = []\n",
    "\n",
    "for x in tqdm.tqdm(range(1000)):\n",
    "    optimizer.zero_grad()\n",
    "    canvasses = msUIo_wbg()\n",
    "    \n",
    "    generated_image = stack_alpha_aware(canvasses)\n",
    "    # Remove Alpha channel\n",
    "    generated_image = generated_image[:3]\n",
    "\n",
    "    score = appsthetics_predictor[\"model\"](generated_image.unsqueeze(0))\n",
    "    print(f\"Aesthetics Score: {score.detach().item()} (Loss: {1- score.detach().item()})\")\n",
    "\n",
    "    random_classifier_logits = random_predictor(resnet_transform(generated_image.unsqueeze(0)))\n",
    "    random_loss = random_classifier_criterion(random_classifier_logits,random_classifier_target)\n",
    "    print(f\"Random Layout Loss: {random_loss.detach().item()}\")\n",
    "    random_losses.append(random_loss.detach().item())\n",
    "\n",
    "    combined_loss = random_classifier_loss_weight * random_loss + (1-random_classifier_loss_weight) * (1-score)\n",
    "    combined_losses.append(combined_loss.detach().item())\n",
    "\n",
    "    print(f\"Combined Layout and Aesthetics Loss: {combined_loss.detach().item()}\")\n",
    "\n",
    "    loss = -score\n",
    "    loss.backward()\n",
    "    optimizer.step()\n",
    "\n",
    "    scores.append(score.detach().item())\n",
    "\n",
    "    # Save image as png to create gif\n",
    "    pil_image = transform_t_to_pil(generated_image.detach())\n",
    "    pil_image = pil_image.resize((int(pil_image.size[0]/4),int(pil_image.size[1]/4)), Image.Resampling.LANCZOS)\n",
    "    pil_image.save(f\"output/{x}.png\")\n",
    "    images_for_gif.append(f\"output/{x}.png\")\n",
    "    #pbar.set_description(f\"Score: {score}\")\n",
    "    #pbar.refresh()\n",
    "\n",
    "print(f\"Final Score: {score[-1]}\")"
   ]
  },
  {
   "cell_type": "code",
   "execution_count": null,
   "id": "01825380-c12d-47b3-b55d-7f64db8bf363",
   "metadata": {},
   "outputs": [],
   "source": [
    "plt.plot(scores)\n",
    "plt.show()"
   ]
  },
  {
   "cell_type": "code",
   "execution_count": null,
   "id": "d826d0e0-ad63-416f-b53d-9decca4afb94",
   "metadata": {},
   "outputs": [],
   "source": [
    "plt.plot(random_losses)\n",
    "plt.show()"
   ]
  },
  {
   "cell_type": "code",
   "execution_count": null,
   "id": "50bc57e5-ee11-4b9d-8d82-dff5af757800",
   "metadata": {},
   "outputs": [],
   "source": [
    "plt.plot(combined_losses)\n",
    "plt.show()"
   ]
  },
  {
   "cell_type": "code",
   "execution_count": null,
   "id": "fe763b13-bbc4-4326-8a2c-ad941f6b6c36",
   "metadata": {},
   "outputs": [],
   "source": [
    "# Create gif from steps\n",
    "import imageio\n",
    "\n",
    "images = []\n",
    "for filename in images_for_gif:\n",
    "    images.append(imageio.imread(filename))\n",
    "\n",
    "gif_filename = f\"./progress_{datetime.now().isoformat(timespec='minutes')}.gif\"\n",
    "imageio.mimsave(gif_filename, images, loop=65535)\n",
    "\n",
    "import base64\n",
    "from IPython.core.display import display, HTML\n",
    "\n",
    "b64 = base64.b64encode(open(gif_filename,'rb').read()).decode('ascii')\n",
    "display(HTML(f'<img src=\"data:image/gif;base64,{b64}\" />'))"
   ]
  },
  {
   "cell_type": "code",
   "execution_count": null,
   "id": "83834ddb-fa1f-4c20-a10b-da0878b707eb",
   "metadata": {},
   "outputs": [],
   "source": []
  }
 ],
 "metadata": {
  "kernelspec": {
   "display_name": "Python 3 (ipykernel)",
   "language": "python",
   "name": "python3"
  },
  "language_info": {
   "codemirror_mode": {
    "name": "ipython",
    "version": 3
   },
   "file_extension": ".py",
   "mimetype": "text/x-python",
   "name": "python",
   "nbconvert_exporter": "python",
   "pygments_lexer": "ipython3",
   "version": "3.11.9"
  }
 },
 "nbformat": 4,
 "nbformat_minor": 5
}
