{
 "cells": [
  {
   "cell_type": "markdown",
   "id": "07004f64-d0ba-4b75-b316-040dc1355566",
   "metadata": {},
   "source": [
    "In this notebook we will train a Variational Auto-Encoder VAE, which will (hopefully) translate all UI images into some n-dimensional space, in which we can then do the optimising.\n",
    "\n",
    "We will use [https://github.com/AntixK/PyTorch-VAE](https://github.com/AntixK/PyTorch-VAE/tree/master) as a basis."
   ]
  },
  {
   "cell_type": "code",
   "execution_count": 1,
   "id": "1f58b6d2-d352-45eb-a10e-7cac8d7a81c9",
   "metadata": {},
   "outputs": [],
   "source": [
    "from typing import List, Callable, Union, Any, TypeVar, Tuple\n",
    "from os import listdir\n",
    "from os.path import isfile, join\n",
    "import json\n",
    "from utils import get_all_bounding_boxes\n",
    "from math import prod\n",
    "from loguru import logger\n",
    "import torch\n",
    "# from torch import tensor as Tensor\n",
    "\n",
    "Tensor = TypeVar('torch.tensor')"
   ]
  },
  {
   "cell_type": "code",
   "execution_count": 2,
   "id": "b652964f-cdd0-4d7b-882b-0455e8af26b2",
   "metadata": {},
   "outputs": [],
   "source": [
    "from torch import nn\n",
    "from torch.utils.data import Dataset\n",
    "from abc import abstractmethod\n",
    "\n",
    "class BaseVAE(nn.Module):\n",
    "    \n",
    "    def __init__(self) -> None:\n",
    "        super(BaseVAE, self).__init__()\n",
    "\n",
    "    def encode(self, input: Tensor) -> List[Tensor]:\n",
    "        raise NotImplementedError\n",
    "\n",
    "    def decode(self, input: Tensor) -> Any:\n",
    "        raise NotImplementedError\n",
    "    def sample(self, batch_size:int, current_device: int, **kwargs) -> Tensor:\n",
    "        raise NotImplementedError\n",
    "\n",
    "    def generate(self, x: Tensor, **kwargs) -> Tensor:\n",
    "        raise NotImplementedError\n",
    "\n",
    "    @abstractmethod\n",
    "    def forward(self, *inputs: Tensor) -> Tensor:\n",
    "        pass\n",
    "\n",
    "    @abstractmethod\n",
    "    def loss_function(self, *inputs: Any, **kwargs) -> Tensor:\n",
    "        pass"
   ]
  },
  {
   "cell_type": "markdown",
   "id": "54b6df59-ef7b-48c1-98f6-ec8b84cb501e",
   "metadata": {},
   "source": [
    "Proposed in_channels:\n",
    "\n",
    "Almost all UIs will have 3 Buttons and 3 `FIXME` objects. So we will input an ordered list into it of the respective normalised (between 0 and 1) positions."
   ]
  },
  {
   "cell_type": "code",
   "execution_count": 3,
   "id": "e7545833-7a27-4b22-911c-14df884088db",
   "metadata": {},
   "outputs": [],
   "source": [
    "def get_all_clickable_resources(item, should_be_clickable):\n",
    "    if item is None:\n",
    "        return []\n",
    "    all_boxes = []\n",
    "    if \"bounds\" in item.keys() and \"resource-id\" in item.keys() and \"clickable\" in item.keys() and item[\"clickable\"]==should_be_clickable:\n",
    "        all_boxes.append((item[\"bounds\"],item[\"resource-id\"]))\n",
    "    if \"children\" in item.keys():\n",
    "        for child in item[\"children\"]:\n",
    "            for box in get_all_clickable_resources(child,should_be_clickable):\n",
    "                all_boxes.append(box)\n",
    "    return all_boxes\n",
    "\n",
    "def get_all_bounding_boxes(item, should_be_clickable):\n",
    "    bboxes = get_all_clickable_resources(item,should_be_clickable)\n",
    "    reduced_bboxes = []\n",
    "    already_seen_ids = []\n",
    "    for box,r_id in bboxes:\n",
    "        if r_id not in already_seen_ids:\n",
    "            reduced_bboxes.append(box)\n",
    "            already_seen_ids.append(r_id)\n",
    "    return reduced_bboxes\n"
   ]
  },
  {
   "cell_type": "code",
   "execution_count": 4,
   "id": "bb6d9f6f-e120-4d14-aca1-ebf13f89ccdd",
   "metadata": {},
   "outputs": [],
   "source": [
    "NORMAL_UI_DIMENSIONS = (1440, 2560)\n",
    "\n",
    "class CustomRicoDataset(Dataset):\n",
    "    def __init__(self, combined_path=\"./combined\"):\n",
    "        self.image_files = [\n",
    "            f\n",
    "            for f in listdir(combined_path)\n",
    "            if isfile(join(combined_path, f)) and (\"jpg\" in f or \"jpeg\" in f)\n",
    "        ]\n",
    "        self.combined_path = combined_path\n",
    "\n",
    "    def __len__(self):\n",
    "        return len(self.image_files)\n",
    "\n",
    "    def __getitem__(self, idx):\n",
    "        img_path = join(self.combined_path,self.image_files[idx])\n",
    "        json_path = join(self.combined_path,self.image_files[idx].split(\".\")[0]+\".json\")\n",
    "        with open(json_path, \"r\") as f:\n",
    "            image_json = json.load(f)\n",
    "        \n",
    "        clickable_segments = get_all_bounding_boxes(image_json[\"activity\"][\"root\"], True)\n",
    "        reduced_clickable_segments = [\n",
    "            box\n",
    "            for box in clickable_segments\n",
    "            if (prod([box[2]-box[0],box[3]-box[1]]) > 1) and prod([box[2]-box[0],box[3]-box[1]]) < 0.8 * 1440 * 2560\n",
    "        ]\n",
    "        normalised_clickable_boxes = []\n",
    "        for box in reduced_clickable_segments:\n",
    "            w,h = box[2]-box[0], box[3]-box[1]\n",
    "            normalised_clickable_boxes.append([w/NORMAL_UI_DIMENSIONS[0],h/NORMAL_UI_DIMENSIONS[1]])\n",
    "        not_clickable_segments = get_all_bounding_boxes(image_json[\"activity\"][\"root\"], False)\n",
    "        not_reduced_clickable_segments = [\n",
    "            box\n",
    "            for box in not_clickable_segments\n",
    "            if (prod([box[2]-box[0],box[3]-box[1]]) > 1) and prod([box[2]-box[0],box[3]-box[1]]) < 0.8 * 1440 * 2560\n",
    "        ]\n",
    "        normalised_not_clickable_boxes = []\n",
    "        for box in not_reduced_clickable_segments:\n",
    "            w,h = box[2]-box[0], box[3]-box[1]\n",
    "            normalised_not_clickable_boxes.append([w/NORMAL_UI_DIMENSIONS[0],h/NORMAL_UI_DIMENSIONS[1]])\n",
    "        \n",
    "\n",
    "        if len(normalised_clickable_boxes) < 5 or len(normalised_not_clickable_boxes) < 5:\n",
    "            # logger.warning(f\"Ignoring Index {idx} because of too little elements...\")\n",
    "            if idx == (len(self)-1):\n",
    "                return self[idx-100]\n",
    "            return self[idx+1]\n",
    "        # return normalised_clickable_boxes[:5], normalised_not_clickable_boxes[:5]\n",
    "        return torch.tensor(normalised_clickable_boxes[:5]+normalised_not_clickable_boxes[:5]).unsqueeze(0)\n"
   ]
  },
  {
   "cell_type": "code",
   "execution_count": 5,
   "id": "85a85ed0-0bf6-4b2e-8f12-5ec84ee1075c",
   "metadata": {},
   "outputs": [],
   "source": [
    "dataset = CustomRicoDataset(\"../combined\")"
   ]
  },
  {
   "cell_type": "code",
   "execution_count": 6,
   "id": "1b742cb7-447e-4f33-b44c-c1defbe7e628",
   "metadata": {},
   "outputs": [],
   "source": [
    "sample_idx = torch.randint(len(dataset), size=(1,)).item()\n",
    "j = dataset[sample_idx]"
   ]
  },
  {
   "cell_type": "code",
   "execution_count": 7,
   "id": "7e9fb569-51d9-4ac8-97f3-dc9bc580a580",
   "metadata": {},
   "outputs": [
    {
     "data": {
      "text/plain": [
       "tensor([[[1.0000, 0.0766],\n",
       "         [0.2667, 0.0508],\n",
       "         [0.6222, 0.0508],\n",
       "         [0.3333, 0.0656],\n",
       "         [0.3333, 0.0656],\n",
       "         [0.9264, 0.0285],\n",
       "         [0.9264, 0.0016],\n",
       "         [0.8167, 0.1145],\n",
       "         [0.9264, 0.0016],\n",
       "         [0.2431, 0.0070]]])"
      ]
     },
     "execution_count": 7,
     "metadata": {},
     "output_type": "execute_result"
    }
   ],
   "source": [
    "j"
   ]
  },
  {
   "cell_type": "code",
   "execution_count": 8,
   "id": "3e27aa8f-839f-4f92-b2e0-3125522cb558",
   "metadata": {},
   "outputs": [],
   "source": [
    "import torch\n",
    "# from models import BaseVAE\n",
    "from torch import nn\n",
    "from torch.nn import functional as F\n",
    "# from .types_ import *\n",
    "\n",
    "\n",
    "class VanillaVAE(BaseVAE):\n",
    "    def __init__(self,\n",
    "                 in_channels: int,\n",
    "                 latent_dim: int,\n",
    "                 hidden_dims: List = None,\n",
    "                 **kwargs) -> None:\n",
    "        super(VanillaVAE, self).__init__()\n",
    "\n",
    "        self.latent_dim = latent_dim\n",
    "\n",
    "        modules = []\n",
    "        if hidden_dims is None:\n",
    "            hidden_dims = [32, 64, 128, 256, 512]\n",
    "\n",
    "        # Build Encoder\n",
    "        for h_dim in hidden_dims:\n",
    "            modules.append(\n",
    "                nn.Sequential(\n",
    "                    #nn.Conv2d(in_channels, out_channels=h_dim,\n",
    "                    #          kernel_size= 3, stride= 2, padding  = 1),\n",
    "                    nn.Linear(in_channels, h_dim),\n",
    "                    # nn.BatchNorm1d(h_dim),\n",
    "                    nn.LeakyReLU())\n",
    "            )\n",
    "            in_channels = h_dim\n",
    "\n",
    "        self.encoder = nn.Sequential(*modules)\n",
    "        self.fc_mu = nn.Linear(hidden_dims[-1]*10, latent_dim)\n",
    "        self.fc_var = nn.Linear(hidden_dims[-1]*10, latent_dim)\n",
    "\n",
    "\n",
    "        # Build Decoder\n",
    "        modules = []\n",
    "\n",
    "        self.decoder_input = nn.Linear(latent_dim, hidden_dims[-1] * 10)\n",
    "\n",
    "        hidden_dims.reverse()\n",
    "\n",
    "        for i in range(len(hidden_dims) - 1):\n",
    "            modules.append(\n",
    "                nn.Sequential(\n",
    "                    #nn.ConvTranspose2d(hidden_dims[i],\n",
    "                    #                   hidden_dims[i + 1],\n",
    "                    #                   kernel_size=3,\n",
    "                    #                   stride = 2,\n",
    "                    #                   padding=1,\n",
    "                    #                   output_padding=1),\n",
    "                    #nn.BatchNorm2d(hidden_dims[i + 1]),\n",
    "                    nn.Linear(hidden_dims[i], hidden_dims[i + 1]),\n",
    "                    nn.LeakyReLU())\n",
    "            )\n",
    "\n",
    "\n",
    "\n",
    "        self.decoder = nn.Sequential(*modules)\n",
    "\n",
    "        self.final_layer = nn.Sequential(\n",
    "                            #nn.ConvTranspose2d(hidden_dims[-1],\n",
    "                            #                   hidden_dims[-1],\n",
    "                            #                   kernel_size=3,\n",
    "                            #                   stride=2,\n",
    "                            #                   padding=1,\n",
    "                            #                   output_padding=1),\n",
    "                            #nn.BatchNorm2d(hidden_dims[-1]),\n",
    "                            nn.Linear(hidden_dims[-1],hidden_dims[-1]),\n",
    "                            nn.LeakyReLU(),\n",
    "                            nn.Linear(hidden_dims[-1],2),\n",
    "                            nn.Tanh())\n",
    "\n",
    "    def encode(self, input: Tensor) -> List[Tensor]:\n",
    "        \"\"\"\n",
    "        Encodes the input by passing through the encoder network\n",
    "        and returns the latent codes.\n",
    "        :param input: (Tensor) Input tensor to encoder [N x C x H x W]\n",
    "        :return: (Tensor) List of latent codes\n",
    "        \"\"\"\n",
    "        result = self.encoder(input)\n",
    "        result = torch.flatten(result, start_dim=1)\n",
    "\n",
    "        # Split the result into mu and var components\n",
    "        # of the latent Gaussian distribution\n",
    "        mu = self.fc_mu(result)\n",
    "        log_var = self.fc_var(result)\n",
    "\n",
    "        return [mu, log_var]\n",
    "\n",
    "    def decode(self, z: Tensor) -> Tensor:\n",
    "        \"\"\"\n",
    "        Maps the given latent codes\n",
    "        onto the image space.\n",
    "        :param z: (Tensor) [B x D]\n",
    "        :return: (Tensor) [B x C x H x W]\n",
    "        \"\"\"\n",
    "        result = self.decoder_input(z)\n",
    "        result = result.view(-1, 10, 512)\n",
    "        result = self.decoder(result)\n",
    "        result = self.final_layer(result)\n",
    "        return result\n",
    "\n",
    "    def reparameterize(self, mu: Tensor, logvar: Tensor) -> Tensor:\n",
    "        \"\"\"\n",
    "        Reparameterization trick to sample from N(mu, var) from\n",
    "        N(0,1).\n",
    "        :param mu: (Tensor) Mean of the latent Gaussian [B x D]\n",
    "        :param logvar: (Tensor) Standard deviation of the latent Gaussian [B x D]\n",
    "        :return: (Tensor) [B x D]\n",
    "        \"\"\"\n",
    "        std = torch.exp(0.5 * logvar)\n",
    "        eps = torch.randn_like(std)\n",
    "        return eps * std + mu\n",
    "\n",
    "    def forward(self, input: Tensor, **kwargs) -> List[Tensor]:\n",
    "        mu, log_var = self.encode(input)\n",
    "        z = self.reparameterize(mu, log_var)\n",
    "        return  [self.decode(z), input, mu, log_var]\n",
    "\n",
    "    def loss_function(self,\n",
    "                      *args,\n",
    "                      **kwargs) -> dict:\n",
    "        \"\"\"\n",
    "        Computes the VAE loss function.\n",
    "        KL(N(\\mu, \\sigma), N(0, 1)) = \\log \\frac{1}{\\sigma} + \\frac{\\sigma^2 + \\mu^2}{2} - \\frac{1}{2}\n",
    "        :param args:\n",
    "        :param kwargs:\n",
    "        :return:\n",
    "        \"\"\"\n",
    "        recons = args[0]\n",
    "        input = args[1]\n",
    "        mu = args[2]\n",
    "        log_var = args[3]\n",
    "\n",
    "        kld_weight = kwargs['M_N'] # Account for the minibatch samples from the dataset\n",
    "        recons_loss =F.mse_loss(recons, input)\n",
    "\n",
    "\n",
    "        kld_loss = torch.mean(-0.5 * torch.sum(1 + log_var - mu ** 2 - log_var.exp(), dim = 1), dim = 0)\n",
    "\n",
    "        loss = recons_loss + kld_weight * kld_loss\n",
    "        return {'loss': loss, 'Reconstruction_Loss':recons_loss.detach(), 'KLD':-kld_loss.detach()}\n",
    "\n",
    "    def sample(self,\n",
    "               num_samples:int,\n",
    "               current_device: int, **kwargs) -> Tensor:\n",
    "        \"\"\"\n",
    "        Samples from the latent space and return the corresponding\n",
    "        image space map.\n",
    "        :param num_samples: (Int) Number of samples\n",
    "        :param current_device: (Int) Device to run the model\n",
    "        :return: (Tensor)\n",
    "        \"\"\"\n",
    "        z = torch.randn(num_samples,\n",
    "                        self.latent_dim)\n",
    "\n",
    "        z = z.to(current_device)\n",
    "\n",
    "        samples = self.decode(z)\n",
    "        return samples\n",
    "\n",
    "    def generate(self, x: Tensor, **kwargs) -> Tensor:\n",
    "        \"\"\"\n",
    "        Given an input image x, returns the reconstructed image\n",
    "        :param x: (Tensor) [B x C x H x W]\n",
    "        :return: (Tensor) [B x C x H x W]\n",
    "        \"\"\"\n",
    "\n",
    "        return self.forward(x)[0]"
   ]
  },
  {
   "cell_type": "code",
   "execution_count": 9,
   "id": "bc1d2f41-09ce-43ca-962e-43ba0405f6f1",
   "metadata": {},
   "outputs": [],
   "source": [
    "vae = VanillaVAE(in_channels=2, latent_dim=128)"
   ]
  },
  {
   "cell_type": "code",
   "execution_count": 10,
   "id": "77c994b6-641b-4861-8f69-bef42ab948cb",
   "metadata": {},
   "outputs": [],
   "source": [
    "#j_tensor = torch.tensor(j[0]+j[1]).unsqueeze(0)\n",
    "recons, inp, mu, log_var = vae.forward(j)"
   ]
  },
  {
   "cell_type": "code",
   "execution_count": 11,
   "id": "b9872237-58a6-4faf-8027-f0ea19fe22cd",
   "metadata": {},
   "outputs": [],
   "source": [
    "loss = vae.loss_function(recons,inp,mu,log_var, M_N=1)"
   ]
  },
  {
   "cell_type": "code",
   "execution_count": 12,
   "id": "9cbe71bb-2580-4f60-ace5-ba887fe62a91",
   "metadata": {},
   "outputs": [
    {
     "data": {
      "text/plain": [
       "{'loss': tensor(0.2492, grad_fn=<AddBackward0>),\n",
       " 'Reconstruction_Loss': tensor(0.1973),\n",
       " 'KLD': tensor(-0.0520)}"
      ]
     },
     "execution_count": 12,
     "metadata": {},
     "output_type": "execute_result"
    }
   ],
   "source": [
    "loss"
   ]
  },
  {
   "cell_type": "code",
   "execution_count": 13,
   "id": "eb9c33b0-7bfa-434a-8c6f-7e145c0e4871",
   "metadata": {},
   "outputs": [],
   "source": [
    "from torch.utils.data import DataLoader\n",
    "from tqdm.auto import tqdm\n",
    "from accelerate import Accelerator\n",
    "\n",
    "train_dataloader = DataLoader(dataset, batch_size=64, shuffle=True)"
   ]
  },
  {
   "cell_type": "code",
   "execution_count": 14,
   "id": "9099e645-f5cc-4ad0-be93-9bb3de698581",
   "metadata": {},
   "outputs": [],
   "source": [
    "accelerator = Accelerator()"
   ]
  },
  {
   "cell_type": "code",
   "execution_count": 15,
   "id": "8de4da22-b783-4ff9-bd43-a836833a9e61",
   "metadata": {},
   "outputs": [],
   "source": [
    "optimizer = torch.optim.Adam(vae.parameters(),\n",
    "                               lr=0.0001)"
   ]
  },
  {
   "cell_type": "code",
   "execution_count": 16,
   "id": "dfd0f573-686a-4be3-aa86-a7cee029a604",
   "metadata": {},
   "outputs": [],
   "source": [
    "vae, optimizer, train_dataloader = accelerator.prepare(vae,optimizer, train_dataloader)"
   ]
  },
  {
   "cell_type": "code",
   "execution_count": 17,
   "id": "6bf56184-2cf3-44f3-b3ac-a649829e8b92",
   "metadata": {},
   "outputs": [
    {
     "data": {
      "text/plain": [
       "VanillaVAE(\n",
       "  (encoder): Sequential(\n",
       "    (0): Sequential(\n",
       "      (0): Linear(in_features=2, out_features=32, bias=True)\n",
       "      (1): LeakyReLU(negative_slope=0.01)\n",
       "    )\n",
       "    (1): Sequential(\n",
       "      (0): Linear(in_features=32, out_features=64, bias=True)\n",
       "      (1): LeakyReLU(negative_slope=0.01)\n",
       "    )\n",
       "    (2): Sequential(\n",
       "      (0): Linear(in_features=64, out_features=128, bias=True)\n",
       "      (1): LeakyReLU(negative_slope=0.01)\n",
       "    )\n",
       "    (3): Sequential(\n",
       "      (0): Linear(in_features=128, out_features=256, bias=True)\n",
       "      (1): LeakyReLU(negative_slope=0.01)\n",
       "    )\n",
       "    (4): Sequential(\n",
       "      (0): Linear(in_features=256, out_features=512, bias=True)\n",
       "      (1): LeakyReLU(negative_slope=0.01)\n",
       "    )\n",
       "  )\n",
       "  (fc_mu): Linear(in_features=5120, out_features=128, bias=True)\n",
       "  (fc_var): Linear(in_features=5120, out_features=128, bias=True)\n",
       "  (decoder_input): Linear(in_features=128, out_features=5120, bias=True)\n",
       "  (decoder): Sequential(\n",
       "    (0): Sequential(\n",
       "      (0): Linear(in_features=512, out_features=256, bias=True)\n",
       "      (1): LeakyReLU(negative_slope=0.01)\n",
       "    )\n",
       "    (1): Sequential(\n",
       "      (0): Linear(in_features=256, out_features=128, bias=True)\n",
       "      (1): LeakyReLU(negative_slope=0.01)\n",
       "    )\n",
       "    (2): Sequential(\n",
       "      (0): Linear(in_features=128, out_features=64, bias=True)\n",
       "      (1): LeakyReLU(negative_slope=0.01)\n",
       "    )\n",
       "    (3): Sequential(\n",
       "      (0): Linear(in_features=64, out_features=32, bias=True)\n",
       "      (1): LeakyReLU(negative_slope=0.01)\n",
       "    )\n",
       "  )\n",
       "  (final_layer): Sequential(\n",
       "    (0): Linear(in_features=32, out_features=32, bias=True)\n",
       "    (1): LeakyReLU(negative_slope=0.01)\n",
       "    (2): Linear(in_features=32, out_features=2, bias=True)\n",
       "    (3): Tanh()\n",
       "  )\n",
       ")"
      ]
     },
     "execution_count": 17,
     "metadata": {},
     "output_type": "execute_result"
    }
   ],
   "source": [
    "vae"
   ]
  },
  {
   "cell_type": "code",
   "execution_count": null,
   "id": "a335654a-7aa2-492e-8ad1-100db90d8e55",
   "metadata": {},
   "outputs": [
    {
     "data": {
      "application/vnd.jupyter.widget-view+json": {
       "model_id": "8890cec7a14e40a6a4fc030bfc0c7a97",
       "version_major": 2,
       "version_minor": 0
      },
      "text/plain": [
       "  0%|          | 0/1036 [00:00<?, ?it/s]"
      ]
     },
     "metadata": {},
     "output_type": "display_data"
    },
    {
     "name": "stderr",
     "output_type": "stream",
     "text": [
      "/tmp/ipykernel_46190/1223830704.py:140: UserWarning: Using a target size (torch.Size([64, 1, 10, 2])) that is different to the input size (torch.Size([64, 10, 2])). This will likely lead to incorrect results due to broadcasting. Please ensure they have the same size.\n",
      "  recons_loss =F.mse_loss(recons, input)\n"
     ]
    },
    {
     "name": "stdout",
     "output_type": "stream",
     "text": [
      "tensor(3.5028, device='cuda:0', grad_fn=<AddBackward0>)\n",
      "tensor(1.7489, device='cuda:0', grad_fn=<AddBackward0>)\n",
      "tensor(0.8661, device='cuda:0', grad_fn=<AddBackward0>)\n",
      "tensor(0.5760, device='cuda:0', grad_fn=<AddBackward0>)\n",
      "tensor(0.4960, device='cuda:0', grad_fn=<AddBackward0>)\n",
      "tensor(0.4275, device='cuda:0', grad_fn=<AddBackward0>)\n",
      "tensor(0.4616, device='cuda:0', grad_fn=<AddBackward0>)\n",
      "tensor(0.5043, device='cuda:0', grad_fn=<AddBackward0>)\n",
      "tensor(0.4600, device='cuda:0', grad_fn=<AddBackward0>)\n",
      "tensor(0.4239, device='cuda:0', grad_fn=<AddBackward0>)\n",
      "tensor(0.3891, device='cuda:0', grad_fn=<AddBackward0>)\n",
      "tensor(0.3343, device='cuda:0', grad_fn=<AddBackward0>)\n",
      "tensor(0.3235, device='cuda:0', grad_fn=<AddBackward0>)\n",
      "tensor(0.2948, device='cuda:0', grad_fn=<AddBackward0>)\n",
      "tensor(0.2702, device='cuda:0', grad_fn=<AddBackward0>)\n",
      "tensor(0.2953, device='cuda:0', grad_fn=<AddBackward0>)\n",
      "tensor(0.2776, device='cuda:0', grad_fn=<AddBackward0>)\n",
      "tensor(0.3073, device='cuda:0', grad_fn=<AddBackward0>)\n",
      "tensor(0.2731, device='cuda:0', grad_fn=<AddBackward0>)\n",
      "tensor(0.2803, device='cuda:0', grad_fn=<AddBackward0>)\n",
      "tensor(0.2724, device='cuda:0', grad_fn=<AddBackward0>)\n",
      "tensor(0.2869, device='cuda:0', grad_fn=<AddBackward0>)\n",
      "tensor(0.2571, device='cuda:0', grad_fn=<AddBackward0>)\n",
      "tensor(0.2534, device='cuda:0', grad_fn=<AddBackward0>)\n",
      "tensor(0.2635, device='cuda:0', grad_fn=<AddBackward0>)\n",
      "tensor(0.2450, device='cuda:0', grad_fn=<AddBackward0>)\n",
      "tensor(0.2763, device='cuda:0', grad_fn=<AddBackward0>)\n",
      "tensor(0.2400, device='cuda:0', grad_fn=<AddBackward0>)\n",
      "tensor(0.2439, device='cuda:0', grad_fn=<AddBackward0>)\n",
      "tensor(0.2450, device='cuda:0', grad_fn=<AddBackward0>)\n",
      "tensor(0.2412, device='cuda:0', grad_fn=<AddBackward0>)\n",
      "tensor(0.2289, device='cuda:0', grad_fn=<AddBackward0>)\n",
      "tensor(0.2331, device='cuda:0', grad_fn=<AddBackward0>)\n",
      "tensor(0.2331, device='cuda:0', grad_fn=<AddBackward0>)\n",
      "tensor(0.2438, device='cuda:0', grad_fn=<AddBackward0>)\n",
      "tensor(0.2778, device='cuda:0', grad_fn=<AddBackward0>)\n",
      "tensor(0.2462, device='cuda:0', grad_fn=<AddBackward0>)\n",
      "tensor(0.2395, device='cuda:0', grad_fn=<AddBackward0>)\n",
      "tensor(0.2237, device='cuda:0', grad_fn=<AddBackward0>)\n",
      "tensor(0.2399, device='cuda:0', grad_fn=<AddBackward0>)\n",
      "tensor(0.2567, device='cuda:0', grad_fn=<AddBackward0>)\n",
      "tensor(0.2655, device='cuda:0', grad_fn=<AddBackward0>)\n",
      "tensor(0.2283, device='cuda:0', grad_fn=<AddBackward0>)\n",
      "tensor(0.2441, device='cuda:0', grad_fn=<AddBackward0>)\n",
      "tensor(0.2222, device='cuda:0', grad_fn=<AddBackward0>)\n",
      "tensor(0.2147, device='cuda:0', grad_fn=<AddBackward0>)\n",
      "tensor(0.2332, device='cuda:0', grad_fn=<AddBackward0>)\n",
      "tensor(0.2322, device='cuda:0', grad_fn=<AddBackward0>)\n",
      "tensor(0.2398, device='cuda:0', grad_fn=<AddBackward0>)\n"
     ]
    }
   ],
   "source": [
    "losses = []\n",
    "for batch in tqdm(train_dataloader):\n",
    "    # j_tensor = .to(accelerate)\n",
    "    # print(batch)\n",
    "    recons, inp, mu, log_var = vae.forward(batch)\n",
    "    loss = vae.loss_function(recons,inp,mu,log_var, M_N=64)\n",
    "    # loss[\"loss\"].backward()\n",
    "    \n",
    "    accelerator.backward(loss[\"loss\"])\n",
    "\n",
    "    torch.nn.utils.clip_grad_norm_(vae.parameters(), 1.5)\n",
    "\n",
    "    \n",
    "    optimizer.step()\n",
    "    \n",
    "    print(loss[\"loss\"])\n",
    "    losses.append(loss[\"loss\"])"
   ]
  },
  {
   "cell_type": "code",
   "execution_count": null,
   "id": "c8a55af5-ed21-48ca-9d7f-ec37d2905632",
   "metadata": {},
   "outputs": [],
   "source": [
    "dataset[0].shape"
   ]
  },
  {
   "cell_type": "code",
   "execution_count": null,
   "id": "37cc24c9-b913-43f8-a36d-a61b4bceb7ca",
   "metadata": {},
   "outputs": [],
   "source": [
    "recons, inp, mu, log_var = vae.forward(dataset[0].to(accelerator.device))"
   ]
  },
  {
   "cell_type": "code",
   "execution_count": null,
   "id": "20006a82-8bdd-439b-8677-8913d4ee5c74",
   "metadata": {},
   "outputs": [],
   "source": [
    "recons"
   ]
  },
  {
   "cell_type": "code",
   "execution_count": null,
   "id": "f98b798a-fab5-41d6-ab89-de52d0b6e33d",
   "metadata": {},
   "outputs": [],
   "source": [
    "inp"
   ]
  },
  {
   "cell_type": "code",
   "execution_count": null,
   "id": "a5549803-6b79-4151-ba94-ecafd21a8138",
   "metadata": {},
   "outputs": [],
   "source": []
  }
 ],
 "metadata": {
  "kernelspec": {
   "display_name": "Python 3 (ipykernel)",
   "language": "python",
   "name": "python3"
  },
  "language_info": {
   "codemirror_mode": {
    "name": "ipython",
    "version": 3
   },
   "file_extension": ".py",
   "mimetype": "text/x-python",
   "name": "python",
   "nbconvert_exporter": "python",
   "pygments_lexer": "ipython3",
   "version": "3.11.9"
  }
 },
 "nbformat": 4,
 "nbformat_minor": 5
}
