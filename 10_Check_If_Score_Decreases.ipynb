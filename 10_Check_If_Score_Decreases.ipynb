{
 "cells": [
  {
   "cell_type": "markdown",
   "id": "8faaa6db-7bb1-44a1-b3f3-b0b2e4ea3456",
   "metadata": {},
   "source": [
    "In this NB, we check if artificially \"destroying\" the layout actually worsens the score significantly to check for sanity in the model."
   ]
  },
  {
   "cell_type": "code",
   "execution_count": 2,
   "id": "d2c19398-02bc-4796-8e20-d42fc4ff6b59",
   "metadata": {},
   "outputs": [],
   "source": [
    "import torch\n",
    "import numpy as np\n",
    "import matplotlib.pyplot as plt\n",
    "from torchvision import datasets, transforms\n",
    "import torch.nn.functional as F\n",
    "import torchvision.transforms as T\n",
    "\n",
    "from PIL import Image\n",
    "import json\n",
    "from math import prod\n",
    "from huggingface_hub import hf_hub_download\n",
    "import tqdm\n",
    "transform_t_to_pil = T.ToPILImage()\n",
    "transform_to_t = transforms.Compose([transforms.ToTensor()])\n",
    "import utils\n",
    "from utils import get_all_bounding_boxes, segment, calculate_initial_theta, stack_alpha_aware, AestheticPredictor, get_random_initial_position\n",
    "# from lion_pytorch import Lion\n",
    "from datetime import datetime\n",
    "import random"
   ]
  },
  {
   "cell_type": "code",
   "execution_count": 3,
   "id": "418c4320-a6bc-4315-a7d8-c7f65b596ca7",
   "metadata": {},
   "outputs": [],
   "source": [
    "# appsthetics_predictor = torch.load(\"./resnet_50_20_epochs_2024-05-13T14:03\")\n",
    "appsthetics_predictor = torch.load(\"Dataset_estetica/Regressao/model34-1cycle-2ndStage-best\")"
   ]
  },
  {
   "cell_type": "code",
   "execution_count": 5,
   "id": "cb319dbe-d606-4647-8327-65f33ea1ab91",
   "metadata": {},
   "outputs": [
    {
     "data": {
      "text/plain": [
       "1"
      ]
     },
     "execution_count": 5,
     "metadata": {},
     "output_type": "execute_result"
    }
   ],
   "source": [
    "appsthetics_predictor[\"model\"].eval()\n",
    "1"
   ]
  },
  {
   "cell_type": "code",
   "execution_count": 6,
   "id": "f936be20-6440-4f29-8e6d-b36aa98e7bb2",
   "metadata": {},
   "outputs": [],
   "source": [
    "im = Image.open('combined/5373.jpg')\n",
    "im = im.convert('RGBA')\n",
    "im = im.resize((1440, 2560), Image.Resampling.LANCZOS)\n",
    "\n",
    "\n",
    "with open(\"combined/5373.json\", \"r\") as f:\n",
    "    image_json = json.load(f)\n",
    "\n",
    "reduced_segments = [s for s in segment(im,image_json) if (prod(s[0].size) < 0.80*prod(im.size)) and (prod(s[0].size)>1)]\n",
    "even_more_reduced_segments = [reduced_segments[i] for i in [2,4,5,6,7,8,10,11,12]]"
   ]
  },
  {
   "cell_type": "code",
   "execution_count": 7,
   "id": "585419dc-9451-4b73-b7e1-c14bdc2c1e69",
   "metadata": {},
   "outputs": [],
   "source": [
    "class MultiSegmentUIOptimizerWithBackgroundParam(torch.nn.Module):\n",
    "    def __init__(self,segments_and_positions: list, original_image_size: tuple, random_initial_state: bool):\n",
    "        super().__init__()\n",
    "        self.original_image_size = original_image_size\n",
    "        self.segments_and_positions = segments_and_positions\n",
    "        self.canvas_size = (1,3,original_image_size[1],original_image_size[0])\n",
    "        print(f\"Canvas size is {self.canvas_size}\")\n",
    "\n",
    "        initial_vector = []\n",
    "        for segment,position in segments_and_positions:\n",
    "            if random_initial_state:\n",
    "                initial_theta = get_random_initial_position(segment,original_image_size,position)\n",
    "            else:\n",
    "                initial_theta = calculate_initial_theta(segment,original_image_size,position)\n",
    "            initial_vector.append([initial_theta[0][2],initial_theta[1][2]])\n",
    "\n",
    "        self.coordinates = torch.nn.Parameter(torch.tensor(initial_vector))\n",
    "        self.static_coordinates = torch.tensor(initial_vector)\n",
    "        print(self.coordinates)\n",
    "        # self.background_color = torch.nn.Parameter(torch.tensor(np.array([1.0,1.0,1.0]),dtype=torch.float))\n",
    "        self.background_color = torch.tensor(np.array([1.0,1.0,1.0]),dtype=torch.float)\n",
    "        \n",
    "\n",
    "    def forward(self):\n",
    "        segments_on_canvas = []\n",
    "\n",
    "        # Create background image from parameter\n",
    "        bg_col = torch.clamp(self.background_color, min=0, max=1)\n",
    "        #print(f\"Clamped bg to {bg_col}\")\n",
    "        red = torch.tile(bg_col[0],self.original_image_size[::-1])\n",
    "        green = torch.tile(bg_col[1],self.original_image_size[::-1])\n",
    "        blue = torch.tile(bg_col[2],self.original_image_size[::-1])\n",
    "        alpha = torch.tile(torch.tensor(0.0),self.original_image_size[::-1])\n",
    "        background = torch.stack([red,green,blue,alpha]).unsqueeze(0)\n",
    "        #print(background.detach().sum())\n",
    "        #background = torch.tile(self.background_color,self.original_image_size)\n",
    "        \n",
    "        \n",
    "        for n in range(len(self.segments_and_positions)):\n",
    "            \n",
    "            # We need to calculate the proper ratios, to artificially warp the segment on to a bigger canvas without distorting it (see notebook 01)\n",
    "            x_ratio = self.original_image_size[0] / self.segments_and_positions[n][0].size[0]\n",
    "            y_ratio = self.original_image_size[1] / self.segments_and_positions[n][0].size[1]\n",
    "            \n",
    "            # Affine matrix\n",
    "            theta = [\n",
    "                [x_ratio, 0.0    , 0.0],\n",
    "                [0.0    , y_ratio, 0.0]\n",
    "            ]\n",
    "            theta_tensor = torch.as_tensor(theta)[None]\n",
    "            if n == 6:\n",
    "                theta_tensor[0][0][2]+=self.coordinates[n][0]\n",
    "                theta_tensor[0][1][2]+=self.coordinates[n][1]\n",
    "            else:\n",
    "                theta_tensor[0][0][2]+=self.static_coordinates[n][0]\n",
    "                theta_tensor[0][1][2]+=self.static_coordinates[n][1]\n",
    "            \n",
    "            # Generate flow field\n",
    "            grid = F.affine_grid(theta_tensor, self.canvas_size).type(torch.FloatTensor)\n",
    "            x = F.grid_sample(transform_to_t(self.segments_and_positions[n][0]).unsqueeze(0), grid)\n",
    "            segments_on_canvas.append(x)\n",
    "\n",
    "        segments_on_canvas.append(background)\n",
    "\n",
    "        return segments_on_canvas"
   ]
  },
  {
   "cell_type": "code",
   "execution_count": 9,
   "id": "7590c624-1b46-4e47-98cf-ef953ed34286",
   "metadata": {},
   "outputs": [
    {
     "name": "stdout",
     "output_type": "stream",
     "text": [
      "Canvas size is (1, 3, 2560, 1440)\n",
      "Parameter containing:\n",
      "tensor([[ -5.8048,  13.3037],\n",
      "        [  1.6321,  21.3044],\n",
      "        [  0.5895,  12.0661],\n",
      "        [  0.5249,   5.3056],\n",
      "        [  1.4158,  11.2097],\n",
      "        [  1.8943,   9.2690],\n",
      "        [ -1.8578, -10.5006],\n",
      "        [  0.0000, -12.3693],\n",
      "        [  0.0000,  29.4762]], dtype=torch.float64, requires_grad=True)\n"
     ]
    },
    {
     "name": "stderr",
     "output_type": "stream",
     "text": [
      "Clipping input data to the valid range for imshow with RGB data ([0..1] for floats or [0..255] for integers).\n"
     ]
    },
    {
     "data": {
      "image/png": "[encoded data removed]",
      "text/plain": [
       "<Figure size 640x480 with 1 Axes>"
      ]
     },
     "metadata": {},
     "output_type": "display_data"
    },
    {
     "name": "stdout",
     "output_type": "stream",
     "text": [
      "tensor([[0.3112]], grad_fn=<AddmmBackward0>)\n"
     ]
    }
   ],
   "source": [
    "msUIo_wbg_gr = MultiSegmentUIOptimizerWithBackgroundParam(even_more_reduced_segments, im.size, False)\n",
    "canvasses = msUIo_wbg_gr()\n",
    "\n",
    "generated_image = stack_alpha_aware(canvasses)\n",
    "\n",
    "generated_image = generated_image[:3]\n",
    "\n",
    "plt.imshow(generated_image.detach().permute(1, 2, 0))\n",
    "plt.axis('off')\n",
    "plt.show()\n",
    "\n",
    "score = appsthetics_predictor[\"model\"](generated_image.unsqueeze(0))\n",
    "print(score)"
   ]
  },
  {
   "cell_type": "code",
   "execution_count": 11,
   "id": "e9ec9d7b-30c3-42dd-b11d-5a1293002a14",
   "metadata": {},
   "outputs": [
    {
     "name": "stdout",
     "output_type": "stream",
     "text": [
      "Canvas size is (1, 3, 2560, 1440)\n",
      "Original would have been: [[ 8.571429  0.       -5.804762]\n",
      " [ 0.       15.238095 13.30372 ]]\n",
      "Now is [[ 8.571429  0.       -4.169353]\n",
      " [ 0.       15.238095  4.181071]]\n",
      "Original would have been: [[ 2.93279   0.        1.632134]\n",
      " [ 0.       27.526882 21.304402]]\n",
      "Now is [[ 2.93279   0.       -1.557174]\n",
      " [ 0.       27.526882 21.57721 ]]\n",
      "Original would have been: [[ 1.698113  0.        0.589518]\n",
      " [ 0.       18.028169 12.066054]]\n",
      "Now is [[ 1.698113  0.        0.095668]\n",
      " [ 0.       18.028169 -0.36227 ]]\n",
      "Original would have been: [[ 1.621622  0.        0.524925]\n",
      " [ 0.       10.578512  5.305598]]\n",
      "Now is [[ 1.621622  0.        0.419284]\n",
      " [ 0.       10.578512  3.07675 ]]\n",
      "Original would have been: [[ 2.67658   0.        1.415779]\n",
      " [ 0.       33.684211 11.209663]]\n",
      "Now is [[ 2.67658   0.       -1.363292]\n",
      " [ 0.       33.684211 14.972477]]\n",
      "Original would have been: [[ 3.243243  0.        1.894294]\n",
      " [ 0.       33.684211  9.269038]]\n",
      "Now is [[ 3.243243  0.       -2.226154]\n",
      " [ 0.       33.684211  1.439801]]\n",
      "Original would have been: [[  4.40367    0.        -1.857836]\n",
      " [  0.        15.238095 -10.500595]]\n",
      "Now is [[ 4.40367   0.        1.997089]\n",
      " [ 0.       15.238095  6.177189]]\n",
      "Original would have been: [[  1.         0.         0.      ]\n",
      " [  0.        15.238095 -12.369345]]\n",
      "Now is [[ 1.        0.        0.      ]\n",
      " [ 0.       15.238095 -9.021257]]\n",
      "Original would have been: [[ 1.       0.       0.     ]\n",
      " [ 0.      30.47619 29.47619]]\n",
      "Now is [[ 1.        0.        0.      ]\n",
      " [ 0.       30.47619  28.464363]]\n",
      "Parameter containing:\n",
      "tensor([[-4.1694,  4.1811],\n",
      "        [-1.5572, 21.5772],\n",
      "        [ 0.0957, -0.3623],\n",
      "        [ 0.4193,  3.0767],\n",
      "        [-1.3633, 14.9725],\n",
      "        [-2.2262,  1.4398],\n",
      "        [ 1.9971,  6.1772],\n",
      "        [ 0.0000, -9.0213],\n",
      "        [ 0.0000, 28.4644]], dtype=torch.float64, requires_grad=True)\n"
     ]
    },
    {
     "name": "stderr",
     "output_type": "stream",
     "text": [
      "Clipping input data to the valid range for imshow with RGB data ([0..1] for floats or [0..255] for integers).\n"
     ]
    },
    {
     "data": {
      "image/png": "[encoded data removed]",
      "text/plain": [
       "<Figure size 640x480 with 1 Axes>"
      ]
     },
     "metadata": {},
     "output_type": "display_data"
    },
    {
     "name": "stdout",
     "output_type": "stream",
     "text": [
      "tensor([[0.3357]], grad_fn=<AddmmBackward0>)\n"
     ]
    }
   ],
   "source": [
    "msUIo_wbg_gr = MultiSegmentUIOptimizerWithBackgroundParam(even_more_reduced_segments, im.size, True)\n",
    "canvasses = msUIo_wbg_gr()\n",
    "\n",
    "generated_image = stack_alpha_aware(canvasses)\n",
    "\n",
    "generated_image = generated_image[:3]\n",
    "\n",
    "plt.imshow(generated_image.detach().permute(1, 2, 0))\n",
    "plt.axis('off')\n",
    "plt.show()\n",
    "\n",
    "score = appsthetics_predictor[\"model\"](generated_image.unsqueeze(0))\n",
    "print(score)"
   ]
  },
  {
   "cell_type": "code",
   "execution_count": null,
   "id": "fd7acabe-d83a-47b3-be56-9679d83b513d",
   "metadata": {},
   "outputs": [],
   "source": []
  }
 ],
 "metadata": {
  "kernelspec": {
   "display_name": "Python 3 (ipykernel)",
   "language": "python",
   "name": "python3"
  },
  "language_info": {
   "codemirror_mode": {
    "name": "ipython",
    "version": 3
   },
   "file_extension": ".py",
   "mimetype": "text/x-python",
   "name": "python",
   "nbconvert_exporter": "python",
   "pygments_lexer": "ipython3",
   "version": "3.11.9"
  }
 },
 "nbformat": 4,
 "nbformat_minor": 5
}
